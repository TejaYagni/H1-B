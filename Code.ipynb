{
 "cells": [
  {
   "cell_type": "code",
   "execution_count": 1,
   "metadata": {
    "collapsed": false
   },
   "outputs": [
    {
     "name": "stderr",
     "output_type": "stream",
     "text": [
      "/home/harvee/anaconda2/lib/python2.7/site-packages/sklearn/cross_validation.py:44: DeprecationWarning: This module was deprecated in version 0.18 in favor of the model_selection module into which all the refactored classes and functions are moved. Also note that the interface of the new CV iterators are different from that of this module. This module will be removed in 0.20.\n",
      "  \"This module will be removed in 0.20.\", DeprecationWarning)\n",
      "/home/harvee/anaconda2/lib/python2.7/site-packages/sklearn/grid_search.py:43: DeprecationWarning: This module was deprecated in version 0.18 in favor of the model_selection module into which all the refactored classes and functions are moved. This module will be removed in 0.20.\n",
      "  DeprecationWarning)\n"
     ]
    }
   ],
   "source": [
    "import pandas as pd \n",
    "import numpy as np \n",
    "from sklearn.tree import DecisionTreeClassifier\n",
    "from sklearn.naive_bayes import GaussianNB\n",
    "from sklearn.linear_model import LogisticRegression\n",
    "from sklearn.grid_search import GridSearchCV\n",
    "from sklearn.preprocessing import LabelEncoder\n",
    "from sklearn.preprocessing import StandardScaler\n",
    "from sklearn.model_selection import train_test_split\n",
    "from sklearn import preprocessing\n",
    "from sklearn.ensemble import RandomForestClassifier\n",
    "from sklearn.model_selection import cross_val_score\n",
    "from sklearn.metrics import average_precision_score\n",
    "from sklearn.metrics import precision_recall_curve\n",
    "from sklearn.metrics import precision_recall_fscore_support\n",
    "from sklearn.metrics import f1_score\n",
    "import matplotlib.pyplot as plt"
   ]
  },
  {
   "cell_type": "markdown",
   "metadata": {},
   "source": [
    "## Loading the dataset "
   ]
  },
  {
   "cell_type": "code",
   "execution_count": 2,
   "metadata": {
    "collapsed": true
   },
   "outputs": [],
   "source": [
    "file_h1b = pd.read_csv('h1b_kaggle.csv')"
   ]
  },
  {
   "cell_type": "markdown",
   "metadata": {},
   "source": [
    "## Below are the columns/attributes in the dataset"
   ]
  },
  {
   "cell_type": "code",
   "execution_count": 3,
   "metadata": {
    "collapsed": false
   },
   "outputs": [
    {
     "name": "stdout",
     "output_type": "stream",
     "text": [
      "Index([u'Unnamed: 0', u'CASE_STATUS', u'EMPLOYER_NAME', u'SOC_NAME',\n",
      "       u'JOB_TITLE', u'FULL_TIME_POSITION', u'PREVAILING_WAGE', u'YEAR',\n",
      "       u'WORKSITE', u'lon', u'lat'],\n",
      "      dtype='object')\n"
     ]
    }
   ],
   "source": [
    "print (file_h1b.columns)"
   ]
  },
  {
   "cell_type": "markdown",
   "metadata": {},
   "source": [
    "### Creating a datarame with the attributes that we will need"
   ]
  },
  {
   "cell_type": "code",
   "execution_count": 4,
   "metadata": {
    "collapsed": true
   },
   "outputs": [],
   "source": [
    "file1_h1b = file_h1b.drop(['Unnamed: 0','lat','lon'],axis = 1)"
   ]
  },
  {
   "cell_type": "code",
   "execution_count": 5,
   "metadata": {
    "collapsed": false
   },
   "outputs": [
    {
     "name": "stdout",
     "output_type": "stream",
     "text": [
      "Index([u'CASE_STATUS', u'EMPLOYER_NAME', u'SOC_NAME', u'JOB_TITLE',\n",
      "       u'FULL_TIME_POSITION', u'PREVAILING_WAGE', u'YEAR', u'WORKSITE'],\n",
      "      dtype='object')\n"
     ]
    }
   ],
   "source": [
    "print (file1_h1b.columns)"
   ]
  },
  {
   "cell_type": "markdown",
   "metadata": {},
   "source": [
    "### Discretising continous variable prevailing wage"
   ]
  },
  {
   "cell_type": "code",
   "execution_count": 6,
   "metadata": {
    "collapsed": false
   },
   "outputs": [],
   "source": [
    "file1_h1b['PREVAILING_WAGE'] = file1_h1b['PREVAILING_WAGE'].fillna(file1_h1b['PREVAILING_WAGE'].mean())\n",
    "file1_h1b['PREVAILING_WAGE'] = pd.cut(file1_h1b['PREVAILING_WAGE'],4,labels = [1,2,3,4])"
   ]
  },
  {
   "cell_type": "markdown",
   "metadata": {},
   "source": [
    "### Convert the dataframe into arrays depending upon the class labels"
   ]
  },
  {
   "cell_type": "code",
   "execution_count": 7,
   "metadata": {
    "collapsed": false
   },
   "outputs": [],
   "source": [
    "array_h1b = np.array(file1_h1b)"
   ]
  },
  {
   "cell_type": "code",
   "execution_count": 8,
   "metadata": {
    "collapsed": false
   },
   "outputs": [],
   "source": [
    "denied = [i for i in array_h1b if i[0] == 'DENIED']\n",
    "rejected = [i for i in array_h1b if i[0] == 'REJECTED']\n",
    "certified_withdrawn = [i for i in array_h1b if i[0] == 'CERTIFIED-WITHDRAWN']\n",
    "certified = [i for i in array_h1b if i[0] == 'CERTIFIED']\n",
    "withdrawn = [i for i in array_h1b if i[0] == 'WITHDRAWN']\n",
    "invalidated = [i for i in array_h1b if i[0] == 'INVALIDATED']\n",
    "pending_quality = [i for i in array_h1b if i[0] == 'PENDING QUALITY AND COMPLIANCE REVIEW - UNASSIGNED']"
   ]
  },
  {
   "cell_type": "code",
   "execution_count": 9,
   "metadata": {
    "collapsed": false
   },
   "outputs": [
    {
     "name": "stdout",
     "output_type": "stream",
     "text": [
      "Denied:  94346\n",
      "Rejected:  2\n",
      "CertifiedWithdrawn:  202659\n",
      "Certified:  2615623\n",
      "Withdrawn:  89799\n",
      "Invalidated:  1\n",
      "pending_quality:  15\n"
     ]
    }
   ],
   "source": [
    "print 'Denied: ',len(denied)\n",
    "print 'Rejected: ',len(rejected)\n",
    "print 'CertifiedWithdrawn: ',len(certified_withdrawn)\n",
    "print 'Certified: ',len(certified)\n",
    "print 'Withdrawn: ',len(withdrawn)\n",
    "print 'Invalidated: ',len(invalidated)\n",
    "print 'pending_quality: ',len(pending_quality)"
   ]
  },
  {
   "cell_type": "markdown",
   "metadata": {},
   "source": [
    "### Convert the arrays into dataframes "
   ]
  },
  {
   "cell_type": "code",
   "execution_count": 10,
   "metadata": {
    "collapsed": false
   },
   "outputs": [],
   "source": [
    "denied_df = pd.DataFrame(denied)\n",
    "rejected_df = pd.DataFrame(rejected)\n",
    "certified_withdrawn_df = pd.DataFrame(certified_withdrawn)\n",
    "certified_df = pd.DataFrame(certified)\n",
    "withdrawn_df = pd.DataFrame(withdrawn)\n",
    "invalidated_df = pd.DataFrame(invalidated)\n",
    "pending_quality_df = pd.DataFrame(pending_quality)"
   ]
  },
  {
   "cell_type": "markdown",
   "metadata": {},
   "source": [
    "### Concatenate the dataframes denied_df,rejected_df together and certified_withdrawn_df and certified_df together"
   ]
  },
  {
   "cell_type": "code",
   "execution_count": 11,
   "metadata": {
    "collapsed": true
   },
   "outputs": [],
   "source": [
    "certified_frames = [certified_df,certified_withdrawn_df]\n",
    "denied_frames = [denied_df,rejected_df]"
   ]
  },
  {
   "cell_type": "code",
   "execution_count": 12,
   "metadata": {
    "collapsed": true
   },
   "outputs": [],
   "source": [
    "certified_df = pd.concat(certified_frames)\n",
    "denied_df = pd.concat(denied_frames)\n"
   ]
  },
  {
   "cell_type": "markdown",
   "metadata": {},
   "source": [
    "### Convert different class labels in a dataframe into single one and concatenate these dataframes into one"
   ]
  },
  {
   "cell_type": "code",
   "execution_count": 13,
   "metadata": {
    "collapsed": false
   },
   "outputs": [],
   "source": [
    "certified_df[0] = 'CERTIFIED'\n",
    "denied_df[0] = 'DENIED'"
   ]
  },
  {
   "cell_type": "markdown",
   "metadata": {},
   "source": [
    "# Approach 1\n"
   ]
  },
  {
   "cell_type": "markdown",
   "metadata": {},
   "source": [
    "### Concatenate both the dataframes"
   ]
  },
  {
   "cell_type": "code",
   "execution_count": 25,
   "metadata": {
    "collapsed": true
   },
   "outputs": [],
   "source": [
    "unsampled_df = pd.concat([certified_df,denied_df])"
   ]
  },
  {
   "cell_type": "markdown",
   "metadata": {},
   "source": [
    "### Seperating the class label from the dataframe"
   ]
  },
  {
   "cell_type": "code",
   "execution_count": 26,
   "metadata": {
    "collapsed": false
   },
   "outputs": [],
   "source": [
    "unsampled_label = unsampled_df.pop(0)"
   ]
  },
  {
   "cell_type": "markdown",
   "metadata": {},
   "source": [
    "## Encoding the attributes"
   ]
  },
  {
   "cell_type": "code",
   "execution_count": 27,
   "metadata": {
    "collapsed": true
   },
   "outputs": [],
   "source": [
    "unsampled_label_array = unsampled_label.unique()\n",
    "ula_le = preprocessing.LabelEncoder()\n",
    "ula_le.fit(unsampled_label_array)\n",
    "unsampled_label = ula_le.transform(unsampled_label)"
   ]
  },
  {
   "cell_type": "code",
   "execution_count": 28,
   "metadata": {
    "collapsed": false
   },
   "outputs": [
    {
     "name": "stderr",
     "output_type": "stream",
     "text": [
      "/home/harvee/.local/lib/python2.7/site-packages/numpy/lib/arraysetops.py:216: FutureWarning: numpy not_equal will not check object identity in the future. The comparison did not return the same result as suggested by the identity (`is`)) and will change.\n",
      "  flag = np.concatenate(([True], aux[1:] != aux[:-1]))\n",
      "/home/harvee/.local/lib/python2.7/site-packages/numpy/lib/arraysetops.py:275: FutureWarning: numpy equal will not check object identity in the future. The comparison did not return the same result as suggested by the identity (`is`)) and will change.\n",
      "  return aux[:-1][aux[1:] == aux[:-1]]\n"
     ]
    }
   ],
   "source": [
    "unsampled_one_array = unsampled_df[1].unique()\n",
    "uoa_le = preprocessing.LabelEncoder()\n",
    "uoa_le.fit(unsampled_one_array)\n",
    "unsampled_df[1] = uoa_le.transform(unsampled_df[1])"
   ]
  },
  {
   "cell_type": "code",
   "execution_count": 29,
   "metadata": {
    "collapsed": true
   },
   "outputs": [],
   "source": [
    "unsampled_two_array = unsampled_df[2].unique()\n",
    "uta_le = preprocessing.LabelEncoder()\n",
    "uta_le.fit(unsampled_two_array)\n",
    "unsampled_df[2] = uta_le.transform(unsampled_df[2])"
   ]
  },
  {
   "cell_type": "code",
   "execution_count": 30,
   "metadata": {
    "collapsed": true
   },
   "outputs": [],
   "source": [
    "unsampled_three_array = unsampled_df[3].unique()\n",
    "utha_le = preprocessing.LabelEncoder()\n",
    "utha_le.fit(unsampled_three_array)\n",
    "unsampled_df[3] = utha_le.transform(unsampled_df[3])"
   ]
  },
  {
   "cell_type": "code",
   "execution_count": 31,
   "metadata": {
    "collapsed": true
   },
   "outputs": [],
   "source": [
    "unsampled_four_array = unsampled_df[4].unique()\n",
    "ufa_le = preprocessing.LabelEncoder()\n",
    "ufa_le.fit(unsampled_four_array)\n",
    "unsampled_df[4] = ufa_le.transform(unsampled_df[4])"
   ]
  },
  {
   "cell_type": "code",
   "execution_count": 32,
   "metadata": {
    "collapsed": true
   },
   "outputs": [],
   "source": [
    "unsampled_five_array = unsampled_df[5].unique()\n",
    "ufia_le = preprocessing.LabelEncoder()\n",
    "ufia_le.fit(unsampled_five_array)\n",
    "unsampled_df[5] = ufia_le.transform(unsampled_df[5])"
   ]
  },
  {
   "cell_type": "code",
   "execution_count": 33,
   "metadata": {
    "collapsed": true
   },
   "outputs": [],
   "source": [
    "unsampled_six_array = unsampled_df[6].unique()\n",
    "usa_le = preprocessing.LabelEncoder()\n",
    "usa_le.fit(unsampled_six_array)\n",
    "unsampled_df[6] = usa_le.transform(unsampled_df[6])"
   ]
  },
  {
   "cell_type": "code",
   "execution_count": 34,
   "metadata": {
    "collapsed": true
   },
   "outputs": [],
   "source": [
    "unsampled_seven_array = unsampled_df[7].unique()\n",
    "usea_le = preprocessing.LabelEncoder()\n",
    "usea_le.fit(unsampled_seven_array)\n",
    "unsampled_df[7] = usea_le.transform(unsampled_df[7])"
   ]
  },
  {
   "cell_type": "markdown",
   "metadata": {},
   "source": [
    "## Splitting the data into test and train sets"
   ]
  },
  {
   "cell_type": "code",
   "execution_count": 174,
   "metadata": {
    "collapsed": true
   },
   "outputs": [],
   "source": [
    "X_train, X_test, Y_train,Y_test = train_test_split(unsampled_df,unsampled_label,test_size = 0.4,random_state = 0)"
   ]
  },
  {
   "cell_type": "markdown",
   "metadata": {},
   "source": [
    "## Building a classifier using Random forest"
   ]
  },
  {
   "cell_type": "code",
   "execution_count": 175,
   "metadata": {
    "collapsed": false
   },
   "outputs": [
    {
     "data": {
      "text/plain": [
       "0.96765380429371395"
      ]
     },
     "execution_count": 175,
     "metadata": {},
     "output_type": "execute_result"
    }
   ],
   "source": [
    "rf = RandomForestClassifier(n_estimators = 350,min_samples_split = 0.2,min_samples_leaf = 0.2,verbose = 0)\n",
    "rf.fit(X_train,Y_train)\n",
    "rf.score(X_test,Y_test)"
   ]
  },
  {
   "cell_type": "markdown",
   "metadata": {},
   "source": [
    "### Cross validation score using RandomForestClassifier"
   ]
  },
  {
   "cell_type": "code",
   "execution_count": 176,
   "metadata": {
    "collapsed": false
   },
   "outputs": [
    {
     "data": {
      "text/plain": [
       "array([ 0.96757516,  0.96757516,  0.96757516,  0.96757793,  0.96757793])"
      ]
     },
     "execution_count": 176,
     "metadata": {},
     "output_type": "execute_result"
    }
   ],
   "source": [
    "\n",
    "rf_cv = RandomForestClassifier(n_estimators = 350,min_samples_split = 0.2,min_samples_leaf = 0.2,verbose = 0)\n",
    "scores = cross_val_score(rf_cv, X_train, Y_train, cv=5)\n",
    "scores"
   ]
  },
  {
   "cell_type": "code",
   "execution_count": 177,
   "metadata": {
    "collapsed": false
   },
   "outputs": [],
   "source": [
    "Y_pred = rf.predict(X_test)"
   ]
  },
  {
   "cell_type": "markdown",
   "metadata": {
    "collapsed": true
   },
   "source": [
    "## Plot Percision and Recall for RFC"
   ]
  },
  {
   "cell_type": "code",
   "execution_count": 178,
   "metadata": {
    "collapsed": false
   },
   "outputs": [
    {
     "data": {
      "image/png": "[encoded data removed]",
      "text/plain": [
       "<matplotlib.figure.Figure at 0x7f00fca5ded0>"
      ]
     },
     "metadata": {},
     "output_type": "display_data"
    }
   ],
   "source": [
    "from sklearn.metrics import average_precision_score\n",
    "import matplotlib.pyplot as plt\n",
    "try:\n",
    "    scores_rf = rf.decision_function(X_test)\n",
    "except:\n",
    "    scores_rf = rf.predict_proba(X_test)[:,1]\n",
    "\n",
    "precision_rf, recall_rf, _ = precision_recall_curve(Y_test, scores_rf, pos_label=1)\n",
    "average_precision_rf = average_precision_score(Y_test, scores_rf)\n",
    "\n",
    "plt.plot(recall_rf, precision_rf, label='area = %0.2f' % average_precision_rf, color=\"green\")\n",
    "plt.xlim([0.0, 1.0])\n",
    "plt.ylim([0.0, 1.05])\n",
    "plt.xlabel('Recall')\n",
    "plt.ylabel('Precision')\n",
    "plt.title('RFC Precision Recall Curve')\n",
    "plt.legend(loc=\"lower right\")\n",
    "plt.show()"
   ]
  },
  {
   "cell_type": "code",
   "execution_count": 179,
   "metadata": {
    "collapsed": false
   },
   "outputs": [
    {
     "name": "stdout",
     "output_type": "stream",
     "text": [
      "(0.48382690214685697, 0.5, 0.4917805165635078, None)\n"
     ]
    }
   ],
   "source": [
    "print (precision_recall_fscore_support(Y_test,Y_pred , average='macro'))"
   ]
  },
  {
   "cell_type": "code",
   "execution_count": 180,
   "metadata": {
    "collapsed": false
   },
   "outputs": [
    {
     "name": "stdout",
     "output_type": "stream",
     "text": [
      "(0.96765380429371395, 0.96765380429371395, 0.96765380429371395, None)\n"
     ]
    }
   ],
   "source": [
    "print (precision_recall_fscore_support(Y_test,Y_pred , average='micro'))"
   ]
  },
  {
   "cell_type": "code",
   "execution_count": 181,
   "metadata": {
    "collapsed": false
   },
   "outputs": [
    {
     "name": "stdout",
     "output_type": "stream",
     "text": [
      "(0.93635388496409711, 0.96765380429371395, 0.95174657546041219, None)\n"
     ]
    }
   ],
   "source": [
    "print (precision_recall_fscore_support(Y_test,Y_pred , average='weighted'))"
   ]
  },
  {
   "cell_type": "markdown",
   "metadata": {},
   "source": [
    "## Logistic Regression"
   ]
  },
  {
   "cell_type": "code",
   "execution_count": 182,
   "metadata": {
    "collapsed": true
   },
   "outputs": [],
   "source": [
    "#To select the best parameters\n",
    "params = {'C':[10,100],'tol':[0.1,0.01]}\n",
    "\n",
    "# Logistic regression model\n",
    "log_reg = LogisticRegression(solver = 'lbfgs',multi_class = 'multinomial',verbose = 1)\n",
    "\n",
    "#This will search for best parmeters\n",
    "clf = GridSearchCV(log_reg,params, refit = \"True\", n_jobs = -1 , cv = 5)"
   ]
  },
  {
   "cell_type": "code",
   "execution_count": 183,
   "metadata": {
    "collapsed": false
   },
   "outputs": [
    {
     "name": "stderr",
     "output_type": "stream",
     "text": [
      "[Parallel(n_jobs=1)]: Done   1 out of   1 | elapsed:   35.2s finished\n",
      "[Parallel(n_jobs=1)]: Done   1 out of   1 | elapsed:   40.0s finished\n",
      "[Parallel(n_jobs=1)]: Done   1 out of   1 | elapsed:   41.2s finished\n",
      "[Parallel(n_jobs=1)]: Done   1 out of   1 | elapsed:  1.1min finished\n",
      "[Parallel(n_jobs=1)]: Done   1 out of   1 | elapsed:   39.8s finished\n",
      "[Parallel(n_jobs=1)]: Done   1 out of   1 | elapsed:   41.0s finished\n",
      "[Parallel(n_jobs=1)]: Done   1 out of   1 | elapsed:   46.0s finished\n",
      "[Parallel(n_jobs=1)]: Done   1 out of   1 | elapsed:   45.4s finished\n",
      "[Parallel(n_jobs=1)]: Done   1 out of   1 | elapsed:   35.8s finished\n",
      "[Parallel(n_jobs=1)]: Done   1 out of   1 | elapsed:   34.3s finished\n",
      "[Parallel(n_jobs=1)]: Done   1 out of   1 | elapsed:  1.0min finished\n",
      "[Parallel(n_jobs=1)]: Done   1 out of   1 | elapsed:   35.6s finished\n",
      "[Parallel(n_jobs=1)]: Done   1 out of   1 | elapsed:   36.8s finished\n",
      "[Parallel(n_jobs=1)]: Done   1 out of   1 | elapsed:   31.6s finished\n",
      "[Parallel(n_jobs=1)]: Done   1 out of   1 | elapsed:   33.2s finished\n",
      "[Parallel(n_jobs=1)]: Done   1 out of   1 | elapsed:   58.2s finished\n",
      "[Parallel(n_jobs=1)]: Done   1 out of   1 | elapsed:   39.9s finished\n",
      "[Parallel(n_jobs=1)]: Done   1 out of   1 | elapsed:   39.7s finished\n",
      "[Parallel(n_jobs=1)]: Done   1 out of   1 | elapsed:   27.5s finished\n",
      "[Parallel(n_jobs=1)]: Done   1 out of   1 | elapsed:   41.9s finished\n"
     ]
    },
    {
     "name": "stdout",
     "output_type": "stream",
     "text": [
      "best params: {'C': 10, 'tol': 0.1}\n"
     ]
    },
    {
     "name": "stderr",
     "output_type": "stream",
     "text": [
      "[Parallel(n_jobs=1)]: Done   1 out of   1 | elapsed:   22.2s finished\n"
     ]
    }
   ],
   "source": [
    "clf.fit(X_train,Y_train)\n",
    "\n",
    "print (\"best params: \" + str(clf.best_params_))"
   ]
  },
  {
   "cell_type": "code",
   "execution_count": 184,
   "metadata": {
    "collapsed": false
   },
   "outputs": [
    {
     "data": {
      "text/plain": [
       "0.96765380429371395"
      ]
     },
     "execution_count": 184,
     "metadata": {},
     "output_type": "execute_result"
    }
   ],
   "source": [
    "clf.score(X_test,Y_test)"
   ]
  },
  {
   "cell_type": "code",
   "execution_count": 185,
   "metadata": {
    "collapsed": false
   },
   "outputs": [],
   "source": [
    "Y_pred = clf.predict(X_test)"
   ]
  },
  {
   "cell_type": "code",
   "execution_count": 187,
   "metadata": {
    "collapsed": false,
    "scrolled": true
   },
   "outputs": [
    {
     "name": "stdout",
     "output_type": "stream",
     "text": [
      "('Micro', (0.96765380429371395, 0.96765380429371395, 0.96765380429371395, None))\n",
      "('Macro', (0.48382690214685697, 0.5, 0.4917805165635078, None))\n",
      "('Weighted', (0.93635388496409711, 0.96765380429371395, 0.95174657546041219, None))\n"
     ]
    }
   ],
   "source": [
    "print ('Micro',(precision_recall_fscore_support(Y_test,Y_pred , average='micro')))\n",
    "print ('Macro',(precision_recall_fscore_support(Y_test,Y_pred , average='macro')))\n",
    "print ('Weighted',(precision_recall_fscore_support(Y_test,Y_pred , average='weighted')))"
   ]
  },
  {
   "cell_type": "code",
   "execution_count": 188,
   "metadata": {
    "collapsed": false
   },
   "outputs": [
    {
     "data": {
      "image/png": "[encoded data removed]",
      "text/plain": [
       "<matplotlib.figure.Figure at 0x7f00fca5d550>"
      ]
     },
     "metadata": {},
     "output_type": "display_data"
    }
   ],
   "source": [
    "try:\n",
    "    scores_lr = clf.decision_function(X_test)\n",
    "except:\n",
    "    scores_lr = clf.predict_proba(X_test)[:,1]\n",
    "\n",
    "precision_lr, recall_lr, _ = precision_recall_curve(Y_test, scores_lr, pos_label=1)\n",
    "average_precision_lr = average_precision_score(Y_test, scores_lr)\n",
    "\n",
    "plt.plot(recall_lr, precision_lr, label='area = %0.2f' % average_precision_lr, color=\"green\")\n",
    "plt.xlim([0.0, 1.0])\n",
    "plt.ylim([0.0, 1.05])\n",
    "plt.xlabel('Recall')\n",
    "plt.ylabel('Precision')\n",
    "plt.title('Logistic Regression Precision Recall Curve')\n",
    "plt.legend(loc=\"lower right\")\n",
    "plt.show()"
   ]
  },
  {
   "cell_type": "markdown",
   "metadata": {},
   "source": [
    "## DTC"
   ]
  },
  {
   "cell_type": "code",
   "execution_count": 189,
   "metadata": {
    "collapsed": false
   },
   "outputs": [
    {
     "data": {
      "text/plain": [
       "0.93676162094052451"
      ]
     },
     "execution_count": 189,
     "metadata": {},
     "output_type": "execute_result"
    }
   ],
   "source": [
    "clf_dtc = DecisionTreeClassifier()\n",
    "clf_dtc.fit(X_train,Y_train)\n",
    "clf_dtc.score(X_test,Y_test)"
   ]
  },
  {
   "cell_type": "code",
   "execution_count": 190,
   "metadata": {
    "collapsed": true
   },
   "outputs": [],
   "source": [
    "Y_pred = clf_dtc.predict(X_test)"
   ]
  },
  {
   "cell_type": "code",
   "execution_count": 191,
   "metadata": {
    "collapsed": false
   },
   "outputs": [
    {
     "name": "stdout",
     "output_type": "stream",
     "text": [
      "('Micro', (0.93676162094052451, 0.93676162094052451, 0.93676162094052451, None))\n",
      "('Macro', (0.55662617825292993, 0.5744365490995329, 0.56388007241162186, None))\n",
      "('Weighted', (0.94561750441800063, 0.93676162094052451, 0.94105505562307867, None))\n"
     ]
    }
   ],
   "source": [
    "print ('Micro',(precision_recall_fscore_support(Y_test,Y_pred , average='micro')))\n",
    "print ('Macro',(precision_recall_fscore_support(Y_test,Y_pred , average='macro')))\n",
    "print ('Weighted',(precision_recall_fscore_support(Y_test,Y_pred , average='weighted')))"
   ]
  },
  {
   "cell_type": "code",
   "execution_count": 192,
   "metadata": {
    "collapsed": false
   },
   "outputs": [
    {
     "data": {
      "image/png": "[encoded data removed]",
      "text/plain": [
       "<matplotlib.figure.Figure at 0x7f00fc8ff850>"
      ]
     },
     "metadata": {},
     "output_type": "display_data"
    }
   ],
   "source": [
    "try:\n",
    "    scores_dtc = clf_dtc.decision_function(X_test)\n",
    "except:\n",
    "    scores_dtc = clf_dtc.predict_proba(X_test)[:,1]\n",
    "\n",
    "precision_dtc, recall_dtc, _ = precision_recall_curve(Y_test, scores_dtc, pos_label=1)\n",
    "average_precision_dtc = average_precision_score(Y_test, scores_dtc)\n",
    "\n",
    "plt.plot(recall_dtc, precision_dtc, label='area = %0.2f' % average_precision_dtc, color=\"green\")\n",
    "plt.xlim([0.0, 1.0])\n",
    "plt.ylim([0.0, 1.05])\n",
    "plt.xlabel('Recall')\n",
    "plt.ylabel('Precision')\n",
    "plt.title('DTC Precision Recall Curve')\n",
    "plt.legend(loc=\"lower right\")\n",
    "plt.show()"
   ]
  },
  {
   "cell_type": "markdown",
   "metadata": {},
   "source": [
    "## Naive Bayes"
   ]
  },
  {
   "cell_type": "code",
   "execution_count": 193,
   "metadata": {
    "collapsed": false
   },
   "outputs": [
    {
     "data": {
      "text/plain": [
       "0.96765380429371395"
      ]
     },
     "execution_count": 193,
     "metadata": {},
     "output_type": "execute_result"
    }
   ],
   "source": [
    "clf_nb = GaussianNB()\n",
    "clf_nb.fit(X_train,Y_train)\n",
    "clf_nb.score(X_test,Y_test)"
   ]
  },
  {
   "cell_type": "code",
   "execution_count": 194,
   "metadata": {
    "collapsed": true
   },
   "outputs": [],
   "source": [
    "Y_pred = clf_nb.predict(X_test)"
   ]
  },
  {
   "cell_type": "code",
   "execution_count": 195,
   "metadata": {
    "collapsed": false,
    "scrolled": true
   },
   "outputs": [
    {
     "name": "stdout",
     "output_type": "stream",
     "text": [
      "('Micro', (0.96765380429371395, 0.96765380429371395, 0.96765380429371395, None))\n",
      "('Macro', (0.48382690214685697, 0.5, 0.4917805165635078, None))\n",
      "('Weighted', (0.93635388496409711, 0.96765380429371395, 0.95174657546041219, None))\n"
     ]
    }
   ],
   "source": [
    "print ('Micro',(precision_recall_fscore_support(Y_test,Y_pred , average='micro')))\n",
    "print ('Macro',(precision_recall_fscore_support(Y_test,Y_pred , average='macro')))\n",
    "print ('Weighted',(precision_recall_fscore_support(Y_test,Y_pred , average='weighted')))"
   ]
  },
  {
   "cell_type": "code",
   "execution_count": 196,
   "metadata": {
    "collapsed": false
   },
   "outputs": [
    {
     "data": {
      "image/png": "[encoded data removed]",
      "text/plain": [
       "<matplotlib.figure.Figure at 0x7f00fbd650d0>"
      ]
     },
     "metadata": {},
     "output_type": "display_data"
    }
   ],
   "source": [
    "try:\n",
    "    scores_nb = clf_nb.decision_function(X_test)\n",
    "except:\n",
    "    scores_nb = clf_nb.predict_proba(X_test)[:,1]\n",
    "\n",
    "precision_nb, recall_nb, _ = precision_recall_curve(Y_test, scores_nb, pos_label=1)\n",
    "average_precision_nb = average_precision_score(Y_test, scores_nb)\n",
    "\n",
    "plt.plot(recall_nb, precision_nb, label='area = %0.2f' % average_precision_nb, color=\"green\")\n",
    "plt.xlim([0.0, 1.0])\n",
    "plt.ylim([0.0, 1.05])\n",
    "plt.xlabel('Recall')\n",
    "plt.ylabel('Precision')\n",
    "plt.title('NB Precision Recall Curve')\n",
    "plt.legend(loc=\"lower right\")\n",
    "plt.show()"
   ]
  },
  {
   "cell_type": "code",
   "execution_count": 197,
   "metadata": {
    "collapsed": false
   },
   "outputs": [
    {
     "data": {
      "image/png": "[encoded data removed]",
      "text/plain": [
       "<matplotlib.figure.Figure at 0x7f00fc819450>"
      ]
     },
     "metadata": {},
     "output_type": "display_data"
    }
   ],
   "source": [
    "plt.plot(recall_rf, precision_rf, label='random_forest = %0.2f' % average_precision_rf, color=\"green\")\n",
    "plt.plot(recall_lr, precision_lr, label='logistic_regression = %0.2f' % average_precision_lr, color=\"blue\")\n",
    "plt.plot(recall_dtc, precision_dtc, label='decision_tree = %0.2f' % average_precision_dtc, color=\"black\")\n",
    "plt.plot(recall_nb, precision_nb, label='naive_bayes = %0.2f' % average_precision_nb, color=\"pink\")\n",
    "\n",
    "plt.xlim([0.0, 1.0])\n",
    "plt.ylim([0.0, 1.05])\n",
    "plt.xlabel('Recall')\n",
    "plt.ylabel('Precision')\n",
    "plt.title('UnderSampled Precision Recall Curve')\n",
    "plt.legend(loc=\"lower right\")\n",
    "plt.show()"
   ]
  },
  {
   "cell_type": "code",
   "execution_count": 199,
   "metadata": {
    "collapsed": false
   },
   "outputs": [
    {
     "data": {
      "image/png": "[encoded data removed]",
      "text/plain": [
       "<matplotlib.figure.Figure at 0x7f00fcfb9bd0>"
      ]
     },
     "metadata": {},
     "output_type": "display_data"
    }
   ],
   "source": [
    "from sklearn import metrics\n",
    "from sklearn.metrics import roc_curve, auc\n",
    "\n",
    "fpr_rf, tpr_rf, thresholds = metrics.roc_curve(Y_test, scores_rf)\n",
    "roc_auc_rf = auc(fpr_rf,tpr_rf)\n",
    "\n",
    "\n",
    "fpr_lr, tpr_lr, thresholds = metrics.roc_curve(Y_test, scores_lr)\n",
    "roc_auc_lr = auc(fpr_lr,tpr_lr)\n",
    "\n",
    "fpr_dtc, tpr_dtc, thresholds = metrics.roc_curve(Y_test, scores_dtc)\n",
    "roc_auc_dtc = auc(fpr_dtc,tpr_dtc)\n",
    "\n",
    "fpr_nb, tpr_nb, thresholds = metrics.roc_curve(Y_test, scores_nb)\n",
    "roc_auc_nb = auc(fpr_nb,tpr_nb)\n",
    "\n",
    "plt.title('Receiver Operating Characteristic Under Sampled')\n",
    "plt.plot(fpr_rf,tpr_rf, 'b',label='rf AUC = %0.2f'% roc_auc_rf)\n",
    "plt.plot(fpr_lr,tpr_lr, 'g',label='lr AUC = %0.2f'% roc_auc_lr)\n",
    "plt.plot(fpr_dtc,tpr_dtc, 'r',label='dtc AUC = %0.2f'% roc_auc_dtc)\n",
    "plt.plot(fpr_nb,tpr_nb, 'y',label='nb AUC = %0.2f'% roc_auc_nb)\n",
    "plt.legend(loc='lower right')\n",
    "plt.plot([0,1],[0,1],'r--')\n",
    "plt.xlim([-0.1,1.2])\n",
    "plt.ylim([-0.1,1.2])\n",
    "plt.ylabel('True Positive Rate')\n",
    "plt.xlabel('False Positive Rate')\n",
    "plt.show()"
   ]
  },
  {
   "cell_type": "markdown",
   "metadata": {
    "collapsed": true
   },
   "source": [
    "## Approach 2 Undersampling"
   ]
  },
  {
   "cell_type": "code",
   "execution_count": 42,
   "metadata": {
    "collapsed": false
   },
   "outputs": [
    {
     "name": "stdout",
     "output_type": "stream",
     "text": [
      "('Certified :', 2818282)\n",
      "('Denied :', 94348)\n"
     ]
    }
   ],
   "source": [
    "print ('Certified :',len(certified_df))\n",
    "print ('Denied :',len(denied_df))\n"
   ]
  },
  {
   "cell_type": "code",
   "execution_count": 43,
   "metadata": {
    "collapsed": false
   },
   "outputs": [
    {
     "data": {
      "text/plain": [
       "94348"
      ]
     },
     "execution_count": 43,
     "metadata": {},
     "output_type": "execute_result"
    }
   ],
   "source": [
    "Usamp_certified_df = certified_df.sample(frac = 0.033477)\n",
    "len(Usamp_certified_df)"
   ]
  },
  {
   "cell_type": "markdown",
   "metadata": {},
   "source": [
    "### Concatenate the undersampled certified dataframe and denied dataframe and then shuffle it"
   ]
  },
  {
   "cell_type": "code",
   "execution_count": 44,
   "metadata": {
    "collapsed": true
   },
   "outputs": [],
   "source": [
    "Under_samp_df = pd.concat([Usamp_certified_df,denied_df])\n",
    "Under_samp_df = Under_samp_df.sample(frac = 1)"
   ]
  },
  {
   "cell_type": "code",
   "execution_count": 45,
   "metadata": {
    "collapsed": false
   },
   "outputs": [],
   "source": [
    "Under_samp_label = Under_samp_df.pop(0)"
   ]
  },
  {
   "cell_type": "markdown",
   "metadata": {},
   "source": [
    "### Encoding the attributes"
   ]
  },
  {
   "cell_type": "code",
   "execution_count": 46,
   "metadata": {
    "collapsed": false
   },
   "outputs": [],
   "source": [
    "Under_samp_label_array = Under_samp_label.unique()\n",
    "ula_le = preprocessing.LabelEncoder()\n",
    "ula_le.fit(Under_samp_label_array)\n",
    "Under_samp_label = ula_le.transform(Under_samp_label)"
   ]
  },
  {
   "cell_type": "code",
   "execution_count": 47,
   "metadata": {
    "collapsed": false
   },
   "outputs": [],
   "source": [
    "Under_samp_one_array = Under_samp_df[1].unique()\n",
    "uoa_le = preprocessing.LabelEncoder()\n",
    "uoa_le.fit(Under_samp_one_array)\n",
    "Under_samp_df[1] = uoa_le.transform(Under_samp_df[1])"
   ]
  },
  {
   "cell_type": "code",
   "execution_count": 48,
   "metadata": {
    "collapsed": true
   },
   "outputs": [],
   "source": [
    "Under_samp_two_array = Under_samp_df[2].unique()\n",
    "uta_le = preprocessing.LabelEncoder()\n",
    "uta_le.fit(Under_samp_two_array)\n",
    "Under_samp_df[2] = uta_le.transform(Under_samp_df[2])"
   ]
  },
  {
   "cell_type": "code",
   "execution_count": 49,
   "metadata": {
    "collapsed": true
   },
   "outputs": [],
   "source": [
    "Under_samp_three_array = Under_samp_df[3].unique()\n",
    "utha_le = preprocessing.LabelEncoder()\n",
    "utha_le.fit(Under_samp_three_array)\n",
    "Under_samp_df[3] = utha_le.transform(Under_samp_df[3])"
   ]
  },
  {
   "cell_type": "code",
   "execution_count": 50,
   "metadata": {
    "collapsed": true
   },
   "outputs": [],
   "source": [
    "Under_samp_four_array = Under_samp_df[4].unique()\n",
    "ufa_le = preprocessing.LabelEncoder()\n",
    "ufa_le.fit(Under_samp_four_array)\n",
    "Under_samp_df[4] = ufa_le.transform(Under_samp_df[4])"
   ]
  },
  {
   "cell_type": "code",
   "execution_count": 51,
   "metadata": {
    "collapsed": true
   },
   "outputs": [],
   "source": [
    "Under_samp_five_array = Under_samp_df[5].unique()\n",
    "ufia_le = preprocessing.LabelEncoder()\n",
    "ufia_le.fit(Under_samp_five_array)\n",
    "Under_samp_df[5] = ufia_le.transform(Under_samp_df[5])"
   ]
  },
  {
   "cell_type": "code",
   "execution_count": 52,
   "metadata": {
    "collapsed": true
   },
   "outputs": [],
   "source": [
    "Under_samp_six_array = Under_samp_df[6].unique()\n",
    "usa_le = preprocessing.LabelEncoder()\n",
    "usa_le.fit(Under_samp_six_array)\n",
    "Under_samp_df[6] = usa_le.transform(Under_samp_df[6])"
   ]
  },
  {
   "cell_type": "code",
   "execution_count": 53,
   "metadata": {
    "collapsed": true
   },
   "outputs": [],
   "source": [
    "Under_samp_seven_array = Under_samp_df[7].unique()\n",
    "usea_le = preprocessing.LabelEncoder()\n",
    "usea_le.fit(Under_samp_seven_array)\n",
    "Under_samp_df[7] = usea_le.transform(Under_samp_df[7])"
   ]
  },
  {
   "cell_type": "markdown",
   "metadata": {},
   "source": [
    "### Splitting the undersampled data to test and train sets"
   ]
  },
  {
   "cell_type": "code",
   "execution_count": 54,
   "metadata": {
    "collapsed": true
   },
   "outputs": [],
   "source": [
    "X_Under_samp_train, X_Under_samp_test, Y_Under_samp_train,Y_Under_samp_test = train_test_split(Under_samp_df,Under_samp_label,test_size = 0.4,random_state = 0)"
   ]
  },
  {
   "cell_type": "markdown",
   "metadata": {},
   "source": [
    "## Building a classifier"
   ]
  },
  {
   "cell_type": "code",
   "execution_count": 55,
   "metadata": {
    "collapsed": false
   },
   "outputs": [
    {
     "data": {
      "text/plain": [
       "0.64127770638190751"
      ]
     },
     "execution_count": 55,
     "metadata": {},
     "output_type": "execute_result"
    }
   ],
   "source": [
    "rf_Under_samp = RandomForestClassifier(n_estimators = 350,min_samples_split = 0.2,min_samples_leaf = 0.2,verbose = 0)\n",
    "rf_Under_samp.fit(X_Under_samp_train,Y_Under_samp_train)\n",
    "rf_Under_samp.score(X_Under_samp_test,Y_Under_samp_test)"
   ]
  },
  {
   "cell_type": "markdown",
   "metadata": {},
   "source": [
    "### Cross validation using Random Forest Classifier"
   ]
  },
  {
   "cell_type": "code",
   "execution_count": 56,
   "metadata": {
    "collapsed": false
   },
   "outputs": [
    {
     "data": {
      "text/plain": [
       "array([ 0.6400371 ,  0.63963964,  0.64395866,  0.63924956,  0.64441677])"
      ]
     },
     "execution_count": 56,
     "metadata": {},
     "output_type": "execute_result"
    }
   ],
   "source": [
    "rf_Under_samp_cv = RandomForestClassifier(n_estimators = 350,min_samples_split = 0.2,min_samples_leaf = 0.2,verbose = 0)\n",
    "scores = cross_val_score(rf_Under_samp_cv, Under_samp_df, Under_samp_label, cv=5)\n",
    "scores"
   ]
  },
  {
   "cell_type": "code",
   "execution_count": 57,
   "metadata": {
    "collapsed": false
   },
   "outputs": [],
   "source": [
    "Y_pred = rf_Under_samp.predict(X_Under_samp_test)"
   ]
  },
  {
   "cell_type": "code",
   "execution_count": 58,
   "metadata": {
    "collapsed": false
   },
   "outputs": [
    {
     "name": "stdout",
     "output_type": "stream",
     "text": [
      "('Micro', (0.64127770638190751, 0.64127770638190751, 0.64127770638190751, None))\n",
      "('Macro', (0.64170853755125723, 0.6413561668614518, 0.64108055474908554, None))\n",
      "('Weighted', (0.64173515745644372, 0.64127770638190751, 0.64105458734917176, None))\n"
     ]
    }
   ],
   "source": [
    "print ('Micro',(precision_recall_fscore_support(Y_Under_samp_test,Y_pred , average='micro')))\n",
    "print ('Macro',(precision_recall_fscore_support(Y_Under_samp_test,Y_pred , average='macro')))\n",
    "print ('Weighted',(precision_recall_fscore_support(Y_Under_samp_test,Y_pred , average='weighted')))"
   ]
  },
  {
   "cell_type": "code",
   "execution_count": 90,
   "metadata": {
    "collapsed": false
   },
   "outputs": [
    {
     "data": {
      "image/png": "[encoded data removed]",
      "text/plain": [
       "<matplotlib.figure.Figure at 0x7f00fc887250>"
      ]
     },
     "metadata": {},
     "output_type": "display_data"
    }
   ],
   "source": [
    "try:\n",
    "    scores_rf = rf_Under_samp.decision_function(X_Under_samp_test)\n",
    "except:\n",
    "    scores_rf = rf_Under_samp.predict_proba(X_Under_samp_test)[:,1]\n",
    "\n",
    "precision_rf, recall_rf, _ = precision_recall_curve(Y_Under_samp_test, scores_rf, pos_label=1)\n",
    "average_precision_rf = average_precision_score(Y_Under_samp_test, scores_rf)\n",
    "\n",
    "plt.plot(recall_rf, precision_rf, label='area = %0.2f' % average_precision_rf, color=\"green\")\n",
    "plt.xlim([0.0, 1.0])\n",
    "plt.ylim([0.0, 1.05])\n",
    "plt.xlabel('Recall')\n",
    "plt.ylabel('Precision')\n",
    "plt.title('Precision Recall Curve')\n",
    "plt.legend(loc=\"lower right\")\n",
    "plt.show()"
   ]
  },
  {
   "cell_type": "markdown",
   "metadata": {},
   "source": [
    "## Logistic Regression"
   ]
  },
  {
   "cell_type": "code",
   "execution_count": 60,
   "metadata": {
    "collapsed": true
   },
   "outputs": [],
   "source": [
    "#To select the best parameters\n",
    "params = {'C':[10,100],'tol':[0.1,0.01]}\n",
    "\n",
    "# Logistic regression model\n",
    "log_reg = LogisticRegression(solver = 'lbfgs',multi_class = 'multinomial',verbose = 1)\n",
    "\n",
    "#This will search for best parmeters\n",
    "clf = GridSearchCV(log_reg,params, refit = \"True\", n_jobs = -1 , cv = 5)"
   ]
  },
  {
   "cell_type": "code",
   "execution_count": 61,
   "metadata": {
    "collapsed": false
   },
   "outputs": [
    {
     "name": "stderr",
     "output_type": "stream",
     "text": [
      "[Parallel(n_jobs=1)]: Done   1 out of   1 | elapsed:    3.9s finished\n",
      "[Parallel(n_jobs=1)]: Done   1 out of   1 | elapsed:    3.9s finished\n",
      "[Parallel(n_jobs=1)]: Done   1 out of   1 | elapsed:    4.1s finished\n",
      "[Parallel(n_jobs=1)]: Done   1 out of   1 | elapsed:    4.4s finished\n",
      "[Parallel(n_jobs=1)]: Done   1 out of   1 | elapsed:    1.1s finished\n",
      "[Parallel(n_jobs=1)]: Done   1 out of   1 | elapsed:    2.2s finished\n",
      "[Parallel(n_jobs=1)]: Done   1 out of   1 | elapsed:    2.6s finished\n",
      "[Parallel(n_jobs=1)]: Done   1 out of   1 | elapsed:    2.7s finished\n",
      "[Parallel(n_jobs=1)]: Done   1 out of   1 | elapsed:    2.3s finished\n",
      "[Parallel(n_jobs=1)]: Done   1 out of   1 | elapsed:    1.3s finished\n",
      "[Parallel(n_jobs=1)]: Done   1 out of   1 | elapsed:    2.3s finished\n",
      "[Parallel(n_jobs=1)]: Done   1 out of   1 | elapsed:    2.5s finished\n",
      "[Parallel(n_jobs=1)]: Done   1 out of   1 | elapsed:    2.4s finished\n",
      "[Parallel(n_jobs=1)]: Done   1 out of   1 | elapsed:    2.7s finished\n",
      "[Parallel(n_jobs=1)]: Done   1 out of   1 | elapsed:    1.3s finished\n",
      "[Parallel(n_jobs=1)]: Done   1 out of   1 | elapsed:    2.2s finished\n",
      "[Parallel(n_jobs=1)]: Done   1 out of   1 | elapsed:    2.5s finished\n",
      "[Parallel(n_jobs=1)]: Done   1 out of   1 | elapsed:    2.3s finished\n",
      "[Parallel(n_jobs=1)]: Done   1 out of   1 | elapsed:    2.7s finished\n",
      "[Parallel(n_jobs=1)]: Done   1 out of   1 | elapsed:    1.1s finished\n"
     ]
    },
    {
     "name": "stdout",
     "output_type": "stream",
     "text": [
      "best params: {'C': 10, 'tol': 0.1}\n"
     ]
    },
    {
     "name": "stderr",
     "output_type": "stream",
     "text": [
      "[Parallel(n_jobs=1)]: Done   1 out of   1 | elapsed:    0.9s finished\n"
     ]
    }
   ],
   "source": [
    "clf.fit(X_Under_samp_train,Y_Under_samp_train)\n",
    "\n",
    "print (\"best params: \" + str(clf.best_params_))"
   ]
  },
  {
   "cell_type": "code",
   "execution_count": 62,
   "metadata": {
    "collapsed": false
   },
   "outputs": [
    {
     "data": {
      "text/plain": [
       "0.56112296135348905"
      ]
     },
     "execution_count": 62,
     "metadata": {},
     "output_type": "execute_result"
    }
   ],
   "source": [
    "clf.score(X_Under_samp_test,Y_Under_samp_test)"
   ]
  },
  {
   "cell_type": "code",
   "execution_count": 63,
   "metadata": {
    "collapsed": false
   },
   "outputs": [],
   "source": [
    "Y_pred = clf.predict(X_Under_samp_test)"
   ]
  },
  {
   "cell_type": "code",
   "execution_count": 64,
   "metadata": {
    "collapsed": false,
    "scrolled": true
   },
   "outputs": [
    {
     "name": "stdout",
     "output_type": "stream",
     "text": [
      "('Micro', (0.56112296135348905, 0.56112296135348905, 0.56112296135348905, None))\n",
      "('Macro', (0.56173684550402725, 0.56094913200060237, 0.55963940968539438, None))\n",
      "('Weighted', (0.56172007507290089, 0.56112296135348905, 0.55971831120072557, None))\n"
     ]
    }
   ],
   "source": [
    "print ('Micro',(precision_recall_fscore_support(Y_Under_samp_test,Y_pred , average='micro')))\n",
    "print ('Macro',(precision_recall_fscore_support(Y_Under_samp_test,Y_pred , average='macro')))\n",
    "print ('Weighted',(precision_recall_fscore_support(Y_Under_samp_test,Y_pred , average='weighted')))"
   ]
  },
  {
   "cell_type": "code",
   "execution_count": 91,
   "metadata": {
    "collapsed": false
   },
   "outputs": [
    {
     "data": {
      "image/png": "[encoded data removed]",
      "text/plain": [
       "<matplotlib.figure.Figure at 0x7f00fc7ecf10>"
      ]
     },
     "metadata": {},
     "output_type": "display_data"
    }
   ],
   "source": [
    "try:\n",
    "    scores_lr = clf.decision_function(X_Under_samp_test)\n",
    "except:\n",
    "    scores_lr = clf.predict_proba(X_Under_samp_test)[:,1]\n",
    "\n",
    "precision_lr, recall_lr, _ = precision_recall_curve(Y_Under_samp_test, scores_lr, pos_label=1)\n",
    "average_precision_lr = average_precision_score(Y_Under_samp_test, scores_lr)\n",
    "\n",
    "plt.plot(recall_lr, precision_lr, label='area = %0.2f' % average_precision_lr, color=\"green\")\n",
    "plt.xlim([0.0, 1.0])\n",
    "plt.ylim([0.0, 1.05])\n",
    "plt.xlabel('Recall')\n",
    "plt.ylabel('Precision')\n",
    "plt.title('Logistic Regression Precision Recall Curve')\n",
    "plt.legend(loc=\"lower right\")\n",
    "plt.show()"
   ]
  },
  {
   "cell_type": "markdown",
   "metadata": {},
   "source": [
    "## DTC"
   ]
  },
  {
   "cell_type": "code",
   "execution_count": 66,
   "metadata": {
    "collapsed": false
   },
   "outputs": [
    {
     "data": {
      "text/plain": [
       "0.64697465520210917"
      ]
     },
     "execution_count": 66,
     "metadata": {},
     "output_type": "execute_result"
    }
   ],
   "source": [
    "clf_dtc = DecisionTreeClassifier()\n",
    "clf_dtc.fit(X_Under_samp_train,Y_Under_samp_train)\n",
    "clf_dtc.score(X_Under_samp_test,Y_Under_samp_test)"
   ]
  },
  {
   "cell_type": "code",
   "execution_count": 67,
   "metadata": {
    "collapsed": true
   },
   "outputs": [],
   "source": [
    "Y_pred = clf_dtc.predict(X_Under_samp_test)"
   ]
  },
  {
   "cell_type": "code",
   "execution_count": 68,
   "metadata": {
    "collapsed": false
   },
   "outputs": [
    {
     "name": "stdout",
     "output_type": "stream",
     "text": [
      "('Micro', (0.64697465520210917, 0.64697465520210917, 0.64697465520210917, None))\n",
      "('Macro', (0.64704668596617076, 0.64693284647095761, 0.64688937375994515, None))\n",
      "('Weighted', (0.64703874315120313, 0.64697465520210917, 0.64690631372245511, None))\n"
     ]
    }
   ],
   "source": [
    "print ('Micro',(precision_recall_fscore_support(Y_Under_samp_test,Y_pred , average='micro')))\n",
    "print ('Macro',(precision_recall_fscore_support(Y_Under_samp_test,Y_pred , average='macro')))\n",
    "print ('Weighted',(precision_recall_fscore_support(Y_Under_samp_test,Y_pred , average='weighted')))"
   ]
  },
  {
   "cell_type": "code",
   "execution_count": 92,
   "metadata": {
    "collapsed": false
   },
   "outputs": [
    {
     "data": {
      "image/png": "[encoded data removed]",
      "text/plain": [
       "<matplotlib.figure.Figure at 0x7f00fc708590>"
      ]
     },
     "metadata": {},
     "output_type": "display_data"
    }
   ],
   "source": [
    "try:\n",
    "    scores_dtc = clf_dtc.decision_function(X_Under_samp_test)\n",
    "except:\n",
    "    scores_dtc = clf_dtc.predict_proba(X_Under_samp_test)[:,1]\n",
    "\n",
    "precision_dtc, recall_dtc, _ = precision_recall_curve(Y_Under_samp_test, scores_dtc, pos_label=1)\n",
    "average_precision_dtc = average_precision_score(Y_Under_samp_test, scores_dtc)\n",
    "\n",
    "plt.plot(recall_dtc, precision_dtc, label='area = %0.2f' % average_precision_dtc, color=\"green\")\n",
    "plt.xlim([0.0, 1.0])\n",
    "plt.ylim([0.0, 1.05])\n",
    "plt.xlabel('Recall')\n",
    "plt.ylabel('Precision')\n",
    "plt.title('DTC Precision Recall Curve')\n",
    "plt.legend(loc=\"lower right\")\n",
    "plt.show()"
   ]
  },
  {
   "cell_type": "markdown",
   "metadata": {},
   "source": [
    "## Naive Bayes"
   ]
  },
  {
   "cell_type": "code",
   "execution_count": 70,
   "metadata": {
    "collapsed": false
   },
   "outputs": [
    {
     "data": {
      "text/plain": [
       "0.64233760383682881"
      ]
     },
     "execution_count": 70,
     "metadata": {},
     "output_type": "execute_result"
    }
   ],
   "source": [
    "clf_nb = GaussianNB()\n",
    "clf_nb.fit(X_Under_samp_train,Y_Under_samp_train)\n",
    "clf_nb.score(X_Under_samp_test,Y_Under_samp_test)"
   ]
  },
  {
   "cell_type": "code",
   "execution_count": 71,
   "metadata": {
    "collapsed": true
   },
   "outputs": [],
   "source": [
    "Y_pred = clf_nb.predict(X_Under_samp_test)"
   ]
  },
  {
   "cell_type": "code",
   "execution_count": 72,
   "metadata": {
    "collapsed": false,
    "scrolled": true
   },
   "outputs": [
    {
     "name": "stdout",
     "output_type": "stream",
     "text": [
      "('Micro', (0.64233760383682881, 0.64233760383682881, 0.64233760383682881, None))\n",
      "('Macro', (0.64236917519817904, 0.64235505379773339, 0.64233278672871386, None))\n",
      "('Weighted', (0.64237852224671099, 0.64233760383682881, 0.64232873479300701, None))\n"
     ]
    }
   ],
   "source": [
    "print ('Micro',(precision_recall_fscore_support(Y_Under_samp_test,Y_pred , average='micro')))\n",
    "print ('Macro',(precision_recall_fscore_support(Y_Under_samp_test,Y_pred , average='macro')))\n",
    "print ('Weighted',(precision_recall_fscore_support(Y_Under_samp_test,Y_pred , average='weighted')))"
   ]
  },
  {
   "cell_type": "code",
   "execution_count": 93,
   "metadata": {
    "collapsed": false
   },
   "outputs": [
    {
     "data": {
      "image/png": "[encoded data removed]",
      "text/plain": [
       "<matplotlib.figure.Figure at 0x7f00fc79e050>"
      ]
     },
     "metadata": {},
     "output_type": "display_data"
    }
   ],
   "source": [
    "try:\n",
    "    scores_nb = clf_nb.decision_function(X_Under_samp_test)\n",
    "except:\n",
    "    scores_nb = clf_nb.predict_proba(X_Under_samp_test)[:,1]\n",
    "\n",
    "precision_nb, recall_nb, _ = precision_recall_curve(Y_Under_samp_test, scores_nb, pos_label=1)\n",
    "average_precision_nb = average_precision_score(Y_Under_samp_test, scores_nb)\n",
    "\n",
    "plt.plot(recall_nb, precision_nb, label='area = %0.2f' % average_precision_nb, color=\"green\")\n",
    "plt.xlim([0.0, 1.0])\n",
    "plt.ylim([0.0, 1.05])\n",
    "plt.xlabel('Recall')\n",
    "plt.ylabel('Precision')\n",
    "plt.title('NB Precision Recall Curve')\n",
    "plt.legend(loc=\"lower right\")\n",
    "plt.show()"
   ]
  },
  {
   "cell_type": "code",
   "execution_count": 94,
   "metadata": {
    "collapsed": false
   },
   "outputs": [
    {
     "data": {
      "image/png": "[encoded data removed]",
      "text/plain": [
       "<matplotlib.figure.Figure at 0x7f00fcc2a810>"
      ]
     },
     "metadata": {},
     "output_type": "display_data"
    }
   ],
   "source": [
    "plt.plot(recall_rf, precision_rf, label='random_forest = %0.2f' % average_precision_rf, color=\"green\")\n",
    "plt.plot(recall_lr, precision_lr, label='logistic_regression = %0.2f' % average_precision_lr, color=\"blue\")\n",
    "plt.plot(recall_dtc, precision_dtc, label='decision_tree = %0.2f' % average_precision_dtc, color=\"black\")\n",
    "plt.plot(recall_nb, precision_nb, label='naive_bayes = %0.2f' % average_precision_nb, color=\"pink\")\n",
    "\n",
    "plt.xlim([0.0, 1.0])\n",
    "plt.ylim([0.0, 1.05])\n",
    "plt.xlabel('Recall')\n",
    "plt.ylabel('Precision')\n",
    "plt.title('UnderSampled Precision Recall Curve')\n",
    "plt.legend(loc=\"lower right\")\n",
    "plt.show()"
   ]
  },
  {
   "cell_type": "code",
   "execution_count": 95,
   "metadata": {
    "collapsed": false
   },
   "outputs": [
    {
     "data": {
      "image/png": "[encoded data removed]",
      "text/plain": [
       "<matplotlib.figure.Figure at 0x7f00fc8d31d0>"
      ]
     },
     "metadata": {},
     "output_type": "display_data"
    }
   ],
   "source": [
    "from sklearn import metrics\n",
    "from sklearn.metrics import roc_curve, auc\n",
    "\n",
    "fpr_rf, tpr_rf, thresholds = metrics.roc_curve(Y_Under_samp_test, scores_rf)\n",
    "roc_auc_rf = auc(fpr_rf,tpr_rf)\n",
    "\n",
    "\n",
    "fpr_lr, tpr_lr, thresholds = metrics.roc_curve(Y_Under_samp_test, scores_lr)\n",
    "roc_auc_lr = auc(fpr_lr,tpr_lr)\n",
    "\n",
    "fpr_dtc, tpr_dtc, thresholds = metrics.roc_curve(Y_Under_samp_test, scores_dtc)\n",
    "roc_auc_dtc = auc(fpr_dtc,tpr_dtc)\n",
    "\n",
    "fpr_nb, tpr_nb, thresholds = metrics.roc_curve(Y_Under_samp_test, scores_nb)\n",
    "roc_auc_nb = auc(fpr_nb,tpr_nb)\n",
    "\n",
    "plt.title('Receiver Operating Characteristic Under Sampled')\n",
    "plt.plot(fpr_rf,tpr_rf, 'b',label='rf AUC = %0.2f'% roc_auc_rf)\n",
    "plt.plot(fpr_lr,tpr_lr, 'g',label='lr AUC = %0.2f'% roc_auc_lr)\n",
    "plt.plot(fpr_dtc,tpr_dtc, 'r',label='dtc AUC = %0.2f'% roc_auc_dtc)\n",
    "plt.plot(fpr_nb,tpr_nb, 'y',label='nb AUC = %0.2f'% roc_auc_nb)\n",
    "plt.legend(loc='lower right')\n",
    "plt.plot([0,1],[0,1],'r--')\n",
    "plt.xlim([-0.1,1.2])\n",
    "plt.ylim([-0.1,1.2])\n",
    "plt.ylabel('True Positive Rate')\n",
    "plt.xlabel('False Positive Rate')\n",
    "plt.show()"
   ]
  },
  {
   "cell_type": "code",
   "execution_count": 85,
   "metadata": {
    "collapsed": false
   },
   "outputs": [
    {
     "data": {
      "text/plain": [
       "array([ nan,  nan,  nan, ...,  nan,  nan,  nan])"
      ]
     },
     "execution_count": 85,
     "metadata": {},
     "output_type": "execute_result"
    }
   ],
   "source": [
    "tpr"
   ]
  },
  {
   "cell_type": "markdown",
   "metadata": {},
   "source": [
    "# Approach 3 Oversampling"
   ]
  },
  {
   "cell_type": "code",
   "execution_count": 97,
   "metadata": {
    "collapsed": false
   },
   "outputs": [
    {
     "name": "stdout",
     "output_type": "stream",
     "text": [
      "('Certified: ', 2818282)\n",
      "('Denied: ', 94348)\n"
     ]
    }
   ],
   "source": [
    "print ('Certified: ',len(certified_df))\n",
    "print ('Denied: ',len(denied_df))"
   ]
  },
  {
   "cell_type": "code",
   "execution_count": 98,
   "metadata": {
    "collapsed": false
   },
   "outputs": [
    {
     "data": {
      "text/plain": [
       "188696"
      ]
     },
     "execution_count": 98,
     "metadata": {},
     "output_type": "execute_result"
    }
   ],
   "source": [
    "Dec_certified = certified_df.sample(frac = 0.0669542650452) #188696\n",
    "len(Dec_certified)"
   ]
  },
  {
   "cell_type": "markdown",
   "metadata": {},
   "source": [
    "## Concatenate the decreased certified samples and the denied samples"
   ]
  },
  {
   "cell_type": "code",
   "execution_count": 99,
   "metadata": {
    "collapsed": true
   },
   "outputs": [],
   "source": [
    "Over_samp_df = pd.concat([Dec_certified,denied_df])\n",
    "Over_samp_df = Over_samp_df.sample(frac = 1)"
   ]
  },
  {
   "cell_type": "code",
   "execution_count": 100,
   "metadata": {
    "collapsed": false
   },
   "outputs": [],
   "source": [
    "Over_samp_label = Over_samp_df.pop(0)"
   ]
  },
  {
   "cell_type": "code",
   "execution_count": 101,
   "metadata": {
    "collapsed": false
   },
   "outputs": [],
   "source": [
    "Over_samp_label_array = Over_samp_label.unique()\n",
    "ula_le = preprocessing.LabelEncoder()\n",
    "ula_le.fit(Over_samp_label_array)\n",
    "Over_samp_label = ula_le.transform(Over_samp_label)"
   ]
  },
  {
   "cell_type": "code",
   "execution_count": 102,
   "metadata": {
    "collapsed": false
   },
   "outputs": [],
   "source": [
    "Over_samp_one_array = Over_samp_df[1].unique()\n",
    "uoa_le = preprocessing.LabelEncoder()\n",
    "uoa_le.fit(Over_samp_one_array)\n",
    "Over_samp_df[1] = uoa_le.transform(Over_samp_df[1])"
   ]
  },
  {
   "cell_type": "code",
   "execution_count": 103,
   "metadata": {
    "collapsed": true
   },
   "outputs": [],
   "source": [
    "Over_samp_two_array = Over_samp_df[2].unique()\n",
    "uta_le = preprocessing.LabelEncoder()\n",
    "uta_le.fit(Over_samp_two_array)\n",
    "Over_samp_df[2] = uta_le.transform(Over_samp_df[2])"
   ]
  },
  {
   "cell_type": "code",
   "execution_count": 104,
   "metadata": {
    "collapsed": true
   },
   "outputs": [],
   "source": [
    "Over_samp_three_array = Over_samp_df[3].unique()\n",
    "utha_le = preprocessing.LabelEncoder()\n",
    "utha_le.fit(Over_samp_three_array)\n",
    "Over_samp_df[3] = utha_le.transform(Over_samp_df[3])"
   ]
  },
  {
   "cell_type": "code",
   "execution_count": 105,
   "metadata": {
    "collapsed": true
   },
   "outputs": [],
   "source": [
    "Over_samp_four_array = Over_samp_df[4].unique()\n",
    "ufa_le = preprocessing.LabelEncoder()\n",
    "ufa_le.fit(Over_samp_four_array)\n",
    "Over_samp_df[4] = ufa_le.transform(Over_samp_df[4])"
   ]
  },
  {
   "cell_type": "code",
   "execution_count": 106,
   "metadata": {
    "collapsed": true
   },
   "outputs": [],
   "source": [
    "Over_samp_five_array = Over_samp_df[5].unique()\n",
    "ufia_le = preprocessing.LabelEncoder()\n",
    "ufia_le.fit(Over_samp_five_array)\n",
    "Over_samp_df[5] = ufia_le.transform(Over_samp_df[5])"
   ]
  },
  {
   "cell_type": "code",
   "execution_count": 107,
   "metadata": {
    "collapsed": true
   },
   "outputs": [],
   "source": [
    "Over_samp_six_array = Over_samp_df[6].unique()\n",
    "usa_le = preprocessing.LabelEncoder()\n",
    "usa_le.fit(Over_samp_six_array)\n",
    "Over_samp_df[6] = usa_le.transform(Over_samp_df[6])"
   ]
  },
  {
   "cell_type": "code",
   "execution_count": 108,
   "metadata": {
    "collapsed": true
   },
   "outputs": [],
   "source": [
    "Over_samp_seven_array = Over_samp_df[7].unique()\n",
    "usea_le = preprocessing.LabelEncoder()\n",
    "usea_le.fit(Over_samp_seven_array)\n",
    "Over_samp_df[7] = usea_le.transform(Over_samp_df[7])"
   ]
  },
  {
   "cell_type": "code",
   "execution_count": 109,
   "metadata": {
    "collapsed": true
   },
   "outputs": [],
   "source": [
    "X_Over_samp_train, X_Over_samp_test, Y_Over_samp_train,Y_Over_samp_test = train_test_split(Over_samp_df,Over_samp_label,test_size = 0.4,random_state = 0)"
   ]
  },
  {
   "cell_type": "markdown",
   "metadata": {},
   "source": [
    "### Now concatenate the train label to train set so that we can over sample the data"
   ]
  },
  {
   "cell_type": "code",
   "execution_count": 110,
   "metadata": {
    "collapsed": false
   },
   "outputs": [
    {
     "name": "stderr",
     "output_type": "stream",
     "text": [
      "/home/harvee/anaconda2/lib/python2.7/site-packages/ipykernel/__main__.py:1: SettingWithCopyWarning: \n",
      "A value is trying to be set on a copy of a slice from a DataFrame.\n",
      "Try using .loc[row_indexer,col_indexer] = value instead\n",
      "\n",
      "See the caveats in the documentation: http://pandas.pydata.org/pandas-docs/stable/indexing.html#indexing-view-versus-copy\n",
      "  if __name__ == '__main__':\n"
     ]
    }
   ],
   "source": [
    "X_Over_samp_train[0] = Y_Over_samp_train"
   ]
  },
  {
   "cell_type": "code",
   "execution_count": 111,
   "metadata": {
    "collapsed": false
   },
   "outputs": [],
   "source": [
    "X_Over_samp_train_array = np.array(X_Over_samp_train)"
   ]
  },
  {
   "cell_type": "code",
   "execution_count": 112,
   "metadata": {
    "collapsed": false
   },
   "outputs": [],
   "source": [
    "X_certified_samp_over = [i for i in X_Over_samp_train_array if i[7] == 0]\n",
    "X_denied_samp_over = [i for i in X_Over_samp_train_array if i[7] == 1]\n"
   ]
  },
  {
   "cell_type": "code",
   "execution_count": 113,
   "metadata": {
    "collapsed": false
   },
   "outputs": [
    {
     "name": "stdout",
     "output_type": "stream",
     "text": [
      "Denied 113136\n",
      "Certified 56690\n"
     ]
    }
   ],
   "source": [
    "print 'Denied',len(X_denied_samp_over)\n",
    "print 'Certified',len(X_certified_samp_over)"
   ]
  },
  {
   "cell_type": "code",
   "execution_count": 114,
   "metadata": {
    "collapsed": true
   },
   "outputs": [],
   "source": [
    "X_certified_samp_over_df = pd.DataFrame(X_certified_samp_over)\n",
    "X_denied_samp_over_df = pd.DataFrame(X_denied_samp_over)"
   ]
  },
  {
   "cell_type": "markdown",
   "metadata": {},
   "source": [
    "\n",
    "## Oversampling the denied set"
   ]
  },
  {
   "cell_type": "code",
   "execution_count": 115,
   "metadata": {
    "collapsed": false
   },
   "outputs": [
    {
     "name": "stdout",
     "output_type": "stream",
     "text": [
      "('Denied', 225677)\n",
      "('Certified', 56690)\n"
     ]
    }
   ],
   "source": [
    "X_denied_samp_over_df = pd.concat([X_denied_samp_over_df,X_denied_samp_over_df.sample(frac = 0.994745009522466)])\n",
    "print ('Denied',len(X_denied_samp_over_df))\n",
    "print ('Certified',len(X_certified_samp_over_df))"
   ]
  },
  {
   "cell_type": "markdown",
   "metadata": {},
   "source": [
    "## Combine denied and certified and then shuffle before training"
   ]
  },
  {
   "cell_type": "code",
   "execution_count": 116,
   "metadata": {
    "collapsed": false
   },
   "outputs": [],
   "source": [
    "X_Over_samp_train = pd.concat([X_denied_samp_over_df,X_certified_samp_over_df])\n",
    "X_Over_samp_train = X_Over_samp_train.sample(frac = 1)"
   ]
  },
  {
   "cell_type": "code",
   "execution_count": 117,
   "metadata": {
    "collapsed": false
   },
   "outputs": [],
   "source": [
    "Y_Over_samp_train = np.array(X_Over_samp_train.pop(7))\n",
    "X_Over_samp_train.columns = X_Over_samp_test.columns"
   ]
  },
  {
   "cell_type": "code",
   "execution_count": 118,
   "metadata": {
    "collapsed": false
   },
   "outputs": [
    {
     "data": {
      "text/plain": [
       "0.66738504478086524"
      ]
     },
     "execution_count": 118,
     "metadata": {},
     "output_type": "execute_result"
    }
   ],
   "source": [
    "rf = RandomForestClassifier(n_estimators = 350,min_samples_split = 0.2,min_samples_leaf = 0.2,verbose = 0)\n",
    "rf.fit(X_Over_samp_train,Y_Over_samp_train)\n",
    "rf.score(X_Over_samp_test,Y_Over_samp_test)"
   ]
  },
  {
   "cell_type": "code",
   "execution_count": 119,
   "metadata": {
    "collapsed": false
   },
   "outputs": [
    {
     "data": {
      "text/plain": [
       "array([ 0.79923505,  0.79923505,  0.79923149,  0.79923149,  0.79923149])"
      ]
     },
     "execution_count": 119,
     "metadata": {},
     "output_type": "execute_result"
    }
   ],
   "source": [
    "rf_Over_samp_cv = RandomForestClassifier(n_estimators = 350,min_samples_split = 0.2,min_samples_leaf = 0.2,verbose = 0)\n",
    "scores = cross_val_score(rf_Over_samp_cv, X_Over_samp_train, Y_Over_samp_train, cv=5)\n",
    "scores"
   ]
  },
  {
   "cell_type": "code",
   "execution_count": 120,
   "metadata": {
    "collapsed": true
   },
   "outputs": [],
   "source": [
    "Y_pred = rf.predict(X_Over_samp_test)"
   ]
  },
  {
   "cell_type": "code",
   "execution_count": 121,
   "metadata": {
    "collapsed": false
   },
   "outputs": [
    {
     "name": "stdout",
     "output_type": "stream",
     "text": [
      "('Micro', (0.66738504478086524, 0.66738504478086524, 0.66738504478086524, None))\n",
      "('Macro', (0.33369252239043262, 0.5, 0.40025850469864077, None))\n",
      "('Weighted', (0.44540279799715748, 0.66738504478086524, 0.53425308016444906, None))\n"
     ]
    },
    {
     "name": "stderr",
     "output_type": "stream",
     "text": [
      "/home/harvee/anaconda2/lib/python2.7/site-packages/sklearn/metrics/classification.py:1113: UndefinedMetricWarning: Precision and F-score are ill-defined and being set to 0.0 in labels with no predicted samples.\n",
      "  'precision', 'predicted', average, warn_for)\n"
     ]
    }
   ],
   "source": [
    "print ('Micro',(precision_recall_fscore_support(Y_Over_samp_test,Y_pred , average='micro')))\n",
    "print ('Macro',(precision_recall_fscore_support(Y_Over_samp_test,Y_pred , average='macro')))\n",
    "print ('Weighted',(precision_recall_fscore_support(Y_Over_samp_test,Y_pred , average='weighted')))"
   ]
  },
  {
   "cell_type": "code",
   "execution_count": 122,
   "metadata": {
    "collapsed": false
   },
   "outputs": [
    {
     "data": {
      "image/png": "[encoded data removed]",
      "text/plain": [
       "<matplotlib.figure.Figure at 0x7f009f87d690>"
      ]
     },
     "metadata": {},
     "output_type": "display_data"
    }
   ],
   "source": [
    "try:\n",
    "    scores_rf = rf.decision_function(X_Over_samp_test)\n",
    "except:\n",
    "    scores_rf = rf.predict_proba(X_Over_samp_test)[:,1]\n",
    "\n",
    "precision_rf, recall_rf, _ = precision_recall_curve(Y_Over_samp_test, scores_rf, pos_label=0)\n",
    "average_precision_rf = average_precision_score(Y_Over_samp_test, scores_rf)\n",
    "\n",
    "plt.plot(recall_rf, precision_rf, label='area = %0.2f' % average_precision_rf, color=\"green\")\n",
    "plt.xlim([0.0, 1.0])\n",
    "plt.ylim([0.0, 1.05])\n",
    "plt.xlabel('Recall')\n",
    "plt.ylabel('Precision')\n",
    "plt.title('Random Forest Precision Recall Curve')\n",
    "plt.legend(loc=\"lower right\")\n",
    "plt.show()"
   ]
  },
  {
   "cell_type": "markdown",
   "metadata": {},
   "source": [
    "## Logistic regression"
   ]
  },
  {
   "cell_type": "code",
   "execution_count": 123,
   "metadata": {
    "collapsed": true
   },
   "outputs": [],
   "source": [
    "#To select the best parameters\n",
    "params = {'C':[10,100],'tol':[0.1,0.01]}\n",
    "\n",
    "# Logistic regression model\n",
    "log_reg = LogisticRegression(solver = 'lbfgs',multi_class = 'multinomial',verbose = 1)\n",
    "\n",
    "#This will search for best parmeters\n",
    "clf = GridSearchCV(log_reg,params, refit = \"True\", n_jobs = -1 , cv = 5)"
   ]
  },
  {
   "cell_type": "code",
   "execution_count": 124,
   "metadata": {
    "collapsed": false
   },
   "outputs": [
    {
     "name": "stderr",
     "output_type": "stream",
     "text": [
      "[Parallel(n_jobs=1)]: Done   1 out of   1 | elapsed:    4.4s finished\n",
      "[Parallel(n_jobs=1)]: Done   1 out of   1 | elapsed:    4.6s finished\n",
      "[Parallel(n_jobs=1)]: Done   1 out of   1 | elapsed:    4.9s finished\n",
      "[Parallel(n_jobs=1)]: Done   1 out of   1 | elapsed:    7.7s finished\n",
      "[Parallel(n_jobs=1)]: Done   1 out of   1 | elapsed:    4.4s finished\n",
      "[Parallel(n_jobs=1)]: Done   1 out of   1 | elapsed:    4.4s finished\n",
      "[Parallel(n_jobs=1)]: Done   1 out of   1 | elapsed:    4.8s finished\n",
      "[Parallel(n_jobs=1)]: Done   1 out of   1 | elapsed:    8.2s finished\n",
      "[Parallel(n_jobs=1)]: Done   1 out of   1 | elapsed:    4.3s finished\n",
      "[Parallel(n_jobs=1)]: Done   1 out of   1 | elapsed:    4.9s finished\n",
      "[Parallel(n_jobs=1)]: Done   1 out of   1 | elapsed:    4.6s finished\n",
      "[Parallel(n_jobs=1)]: Done   1 out of   1 | elapsed:    4.3s finished\n",
      "[Parallel(n_jobs=1)]: Done   1 out of   1 | elapsed:    4.8s finished\n",
      "[Parallel(n_jobs=1)]: Done   1 out of   1 | elapsed:    8.1s finished\n",
      "[Parallel(n_jobs=1)]: Done   1 out of   1 | elapsed:    4.7s finished\n",
      "[Parallel(n_jobs=1)]: Done   1 out of   1 | elapsed:    4.6s finished\n",
      "[Parallel(n_jobs=1)]: Done   1 out of   1 | elapsed:    4.2s finished\n",
      "[Parallel(n_jobs=1)]: Done   1 out of   1 | elapsed:    4.5s finished\n",
      "[Parallel(n_jobs=1)]: Done   1 out of   1 | elapsed:    7.4s finished\n",
      "[Parallel(n_jobs=1)]: Done   1 out of   1 | elapsed:    3.6s finished\n"
     ]
    },
    {
     "name": "stdout",
     "output_type": "stream",
     "text": [
      "best params: {'C': 10, 'tol': 0.1}\n"
     ]
    },
    {
     "name": "stderr",
     "output_type": "stream",
     "text": [
      "[Parallel(n_jobs=1)]: Done   1 out of   1 | elapsed:    4.4s finished\n"
     ]
    }
   ],
   "source": [
    "clf.fit(X_Over_samp_train,Y_Over_samp_train)\n",
    "\n",
    "print (\"best params: \" + str(clf.best_params_))"
   ]
  },
  {
   "cell_type": "code",
   "execution_count": 125,
   "metadata": {
    "collapsed": false
   },
   "outputs": [
    {
     "data": {
      "text/plain": [
       "0.66878058259287387"
      ]
     },
     "execution_count": 125,
     "metadata": {},
     "output_type": "execute_result"
    }
   ],
   "source": [
    "clf.score(X_Over_samp_test,Y_Over_samp_test)"
   ]
  },
  {
   "cell_type": "code",
   "execution_count": 126,
   "metadata": {
    "collapsed": true
   },
   "outputs": [],
   "source": [
    "Y_pred = clf.predict(X_Over_samp_test)"
   ]
  },
  {
   "cell_type": "code",
   "execution_count": 127,
   "metadata": {
    "collapsed": false
   },
   "outputs": [
    {
     "name": "stdout",
     "output_type": "stream",
     "text": [
      "('Micro', (0.66878058259287387, 0.66878058259287387, 0.66878058259287387, None))\n",
      "('Macro', (0.65549932637369901, 0.50342319437530059, 0.40972571551345172, None))\n",
      "('Weighted', (0.65998959605791896, 0.66878058259287387, 0.54063470132813174, None))\n"
     ]
    }
   ],
   "source": [
    "print ('Micro',(precision_recall_fscore_support(Y_Over_samp_test,Y_pred , average='micro')))\n",
    "print ('Macro',(precision_recall_fscore_support(Y_Over_samp_test,Y_pred , average='macro')))\n",
    "print ('Weighted',(precision_recall_fscore_support(Y_Over_samp_test,Y_pred , average='weighted')))"
   ]
  },
  {
   "cell_type": "code",
   "execution_count": 129,
   "metadata": {
    "collapsed": false
   },
   "outputs": [
    {
     "data": {
      "image/png": "[encoded data removed]",
      "text/plain": [
       "<matplotlib.figure.Figure at 0x7f00c7a63b90>"
      ]
     },
     "metadata": {},
     "output_type": "display_data"
    }
   ],
   "source": [
    "try:\n",
    "    scores_lr = clf.decision_function(X_Over_samp_test)\n",
    "except:\n",
    "    scores_lr = clf.predict_proba(X_Over_samp_test)[:,1]\n",
    "\n",
    "precision_lr, recall_lr, _ = precision_recall_curve(Y_Over_samp_test, scores_lr, pos_label=0)\n",
    "average_precision_lr = average_precision_score(Y_Over_samp_test, scores_lr)\n",
    "\n",
    "plt.plot(recall_lr, precision_lr, label='area = %0.2f' % average_precision_lr, color=\"green\")\n",
    "plt.xlim([0.0, 1.0])\n",
    "plt.ylim([0.0, 1.05])\n",
    "plt.xlabel('Recall')\n",
    "plt.ylabel('Precision')\n",
    "plt.title('Logistic Regression Precision Recall Curve')\n",
    "plt.legend(loc=\"lower right\")\n",
    "plt.show()"
   ]
  },
  {
   "cell_type": "markdown",
   "metadata": {},
   "source": [
    "## Apply DTC"
   ]
  },
  {
   "cell_type": "code",
   "execution_count": 130,
   "metadata": {
    "collapsed": false
   },
   "outputs": [
    {
     "data": {
      "text/plain": [
       "0.68526206080305252"
      ]
     },
     "execution_count": 130,
     "metadata": {},
     "output_type": "execute_result"
    }
   ],
   "source": [
    "clf_dtc = DecisionTreeClassifier()\n",
    "clf_dtc.fit(X_Over_samp_train,Y_Over_samp_train)\n",
    "clf_dtc.score(X_Over_samp_test,Y_Over_samp_test)"
   ]
  },
  {
   "cell_type": "code",
   "execution_count": 131,
   "metadata": {
    "collapsed": true
   },
   "outputs": [],
   "source": [
    "Y_pred = clf_dtc.predict(X_Over_samp_test)"
   ]
  },
  {
   "cell_type": "code",
   "execution_count": 132,
   "metadata": {
    "collapsed": false
   },
   "outputs": [
    {
     "name": "stdout",
     "output_type": "stream",
     "text": [
      "('Micro', (0.68526206080305252, 0.68526206080305252, 0.68526206080305252, None))\n",
      "('Macro', (0.64666823421411657, 0.64819443082810912, 0.64739134898232176, None))\n",
      "('Weighted', (0.68695863291884451, 0.68526206080305252, 0.68607655056245687, None))\n"
     ]
    }
   ],
   "source": [
    "print ('Micro',(precision_recall_fscore_support(Y_Over_samp_test,Y_pred , average='micro')))\n",
    "print ('Macro',(precision_recall_fscore_support(Y_Over_samp_test,Y_pred , average='macro')))\n",
    "print ('Weighted',(precision_recall_fscore_support(Y_Over_samp_test,Y_pred , average='weighted')))"
   ]
  },
  {
   "cell_type": "code",
   "execution_count": 133,
   "metadata": {
    "collapsed": false
   },
   "outputs": [
    {
     "data": {
      "image/png": "[encoded data removed]",
      "text/plain": [
       "<matplotlib.figure.Figure at 0x7f00c7a4ac10>"
      ]
     },
     "metadata": {},
     "output_type": "display_data"
    }
   ],
   "source": [
    "try:\n",
    "    scores_dtc = clf_dtc.decision_function(X_Over_samp_test)\n",
    "except:\n",
    "    scores_dtc = clf_dtc.predict_proba(X_Over_samp_test)[:,1]\n",
    "\n",
    "precision_dtc, recall_dtc, _ = precision_recall_curve(Y_Over_samp_test, scores_dtc, pos_label=0)\n",
    "average_precision = average_precision_score(Y_Over_samp_test, scores_dtc)\n",
    "\n",
    "plt.plot(recall_dtc, precision_dtc, label='area = %0.2f' % average_precision_dtc, color=\"green\")\n",
    "plt.xlim([0.0, 1.0])\n",
    "plt.ylim([0.0, 1.05])\n",
    "plt.xlabel('Recall')\n",
    "plt.ylabel('Precision')\n",
    "plt.title('DTC Precision Recall Curve')\n",
    "plt.legend(loc=\"lower right\")\n",
    "plt.show()"
   ]
  },
  {
   "cell_type": "markdown",
   "metadata": {},
   "source": [
    "## Naive Bayes"
   ]
  },
  {
   "cell_type": "code",
   "execution_count": 134,
   "metadata": {
    "collapsed": false
   },
   "outputs": [
    {
     "data": {
      "text/plain": [
       "0.66738504478086524"
      ]
     },
     "execution_count": 134,
     "metadata": {},
     "output_type": "execute_result"
    }
   ],
   "source": [
    "clf_nb = GaussianNB()\n",
    "clf_nb.fit(X_Over_samp_train,Y_Over_samp_train)\n",
    "clf_nb.score(X_Over_samp_test,Y_Over_samp_test)"
   ]
  },
  {
   "cell_type": "code",
   "execution_count": 135,
   "metadata": {
    "collapsed": true
   },
   "outputs": [],
   "source": [
    "Y_pred = clf_nb.predict(X_Over_samp_test)"
   ]
  },
  {
   "cell_type": "code",
   "execution_count": 136,
   "metadata": {
    "collapsed": false
   },
   "outputs": [
    {
     "name": "stdout",
     "output_type": "stream",
     "text": [
      "('Micro', (0.66738504478086524, 0.66738504478086524, 0.66738504478086524, None))\n",
      "('Macro', (0.33369252239043262, 0.5, 0.40025850469864077, None))\n",
      "('Weighted', (0.44540279799715748, 0.66738504478086524, 0.53425308016444906, None))\n"
     ]
    }
   ],
   "source": [
    "print ('Micro',(precision_recall_fscore_support(Y_Over_samp_test,Y_pred , average='micro')))\n",
    "print ('Macro',(precision_recall_fscore_support(Y_Over_samp_test,Y_pred , average='macro')))\n",
    "print ('Weighted',(precision_recall_fscore_support(Y_Over_samp_test,Y_pred , average='weighted')))"
   ]
  },
  {
   "cell_type": "code",
   "execution_count": 137,
   "metadata": {
    "collapsed": false
   },
   "outputs": [
    {
     "data": {
      "image/png": "[encoded data removed]",
      "text/plain": [
       "<matplotlib.figure.Figure at 0x7f00a3106d90>"
      ]
     },
     "metadata": {},
     "output_type": "display_data"
    }
   ],
   "source": [
    "try:\n",
    "    scores_nb = clf_nb.decision_function(X_Over_samp_test)\n",
    "except:\n",
    "    scores_nb = clf_nb.predict_proba(X_Over_samp_test)[:,1]\n",
    "\n",
    "precision_nb, recall_nb, _ = precision_recall_curve(Y_Over_samp_test, scores_nb, pos_label=0)\n",
    "average_precision_nb = average_precision_score(Y_Over_samp_test, scores_nb)\n",
    "\n",
    "plt.plot(recall_nb, precision_nb, label='area = %0.2f' % average_precision_nb, color=\"green\")\n",
    "plt.xlim([0.0, 1.0])\n",
    "plt.ylim([0.0, 1.05])\n",
    "plt.xlabel('Recall')\n",
    "plt.ylabel('Precision')\n",
    "plt.title('NB Precision Recall Curve')\n",
    "plt.legend(loc=\"lower right\")\n",
    "plt.show()"
   ]
  },
  {
   "cell_type": "code",
   "execution_count": 138,
   "metadata": {
    "collapsed": false
   },
   "outputs": [
    {
     "data": {
      "image/png": "[encoded data removed]",
      "text/plain": [
       "<matplotlib.figure.Figure at 0x7f00fcf4d0d0>"
      ]
     },
     "metadata": {},
     "output_type": "display_data"
    }
   ],
   "source": [
    "plt.plot(recall_rf, precision_rf, label='random_forest = %0.2f' % average_precision_rf, color=\"green\")\n",
    "plt.plot(recall_lr, precision_lr, label='logistic_regression = %0.2f' % average_precision_lr, color=\"blue\")\n",
    "plt.plot(recall_dtc, precision_dtc, label='decision_tree = %0.2f' % average_precision_dtc, color=\"black\")\n",
    "plt.plot(recall_nb, precision_nb, label='naive_bayes = %0.2f' % average_precision_nb, color=\"pink\")\n",
    "\n",
    "plt.xlim([0.0, 1.0])\n",
    "plt.ylim([0.0, 1.05])\n",
    "plt.xlabel('Recall')\n",
    "plt.ylabel('Precision')\n",
    "plt.title('OverSampled Precision Recall Curve')\n",
    "plt.legend(loc=\"lower right\")\n",
    "plt.show()"
   ]
  },
  {
   "cell_type": "code",
   "execution_count": 139,
   "metadata": {
    "collapsed": false
   },
   "outputs": [
    {
     "data": {
      "image/png": "[encoded data removed]",
      "text/plain": [
       "<matplotlib.figure.Figure at 0x7f00c7a22e50>"
      ]
     },
     "metadata": {},
     "output_type": "display_data"
    }
   ],
   "source": [
    "fpr_rf, tpr_rf, thresholds = metrics.roc_curve(Y_Over_samp_test, scores_rf)\n",
    "roc_auc_rf = auc(fpr_rf,tpr_rf)\n",
    "\n",
    "\n",
    "fpr_lr, tpr_lr, thresholds = metrics.roc_curve(Y_Over_samp_test, scores_lr)\n",
    "roc_auc_lr = auc(fpr_lr,tpr_lr)\n",
    "\n",
    "fpr_dtc, tpr_dtc, thresholds = metrics.roc_curve(Y_Over_samp_test, scores_dtc)\n",
    "roc_auc_dtc = auc(fpr_dtc,tpr_dtc)\n",
    "\n",
    "fpr_nb, tpr_nb, thresholds = metrics.roc_curve(Y_Over_samp_test, scores_nb)\n",
    "roc_auc_nb = auc(fpr_nb,tpr_nb)\n",
    "\n",
    "plt.title('Receiver Operating Characteristic Over Sampled')\n",
    "plt.plot(fpr_rf,tpr_rf, 'b',label='rf AUC = %0.2f'% roc_auc_rf)\n",
    "plt.plot(fpr_lr,tpr_lr, 'g',label='lr AUC = %0.2f'% roc_auc_lr)\n",
    "plt.plot(fpr_dtc,tpr_dtc, 'r',label='dtc AUC = %0.2f'% roc_auc_dtc)\n",
    "plt.plot(fpr_nb,tpr_nb, 'y',label='nb AUC = %0.2f'% roc_auc_nb)\n",
    "plt.legend(loc='lower right')\n",
    "plt.plot([0,1],[0,1],'r--')\n",
    "plt.xlim([-0.1,1.2])\n",
    "plt.ylim([-0.1,1.2])\n",
    "plt.ylabel('True Positive Rate')\n",
    "plt.xlabel('False Positive Rate')\n",
    "plt.show()"
   ]
  },
  {
   "cell_type": "markdown",
   "metadata": {
    "collapsed": true
   },
   "source": [
    "#  Approach Oversampling 2\n",
    "\n",
    "## Oversampling before splitting the data"
   ]
  },
  {
   "cell_type": "code",
   "execution_count": 140,
   "metadata": {
    "collapsed": false
   },
   "outputs": [
    {
     "name": "stdout",
     "output_type": "stream",
     "text": [
      "188696\n",
      "94348\n"
     ]
    }
   ],
   "source": [
    "print (len(Dec_certified))\n",
    "print (len(denied_df))"
   ]
  },
  {
   "cell_type": "code",
   "execution_count": 141,
   "metadata": {
    "collapsed": true
   },
   "outputs": [],
   "source": [
    "Inc_denied = pd.concat([denied_df,denied_df])\n",
    "Inc_denied = Inc_denied.sample(frac = 1)"
   ]
  },
  {
   "cell_type": "code",
   "execution_count": 142,
   "metadata": {
    "collapsed": false
   },
   "outputs": [],
   "source": [
    "Over_before_df = pd.concat([Dec_certified,Inc_denied])\n",
    "Over_before_df = Over_before_df.sample(frac = 1)"
   ]
  },
  {
   "cell_type": "code",
   "execution_count": 143,
   "metadata": {
    "collapsed": false
   },
   "outputs": [
    {
     "data": {
      "text/plain": [
       "377392"
      ]
     },
     "execution_count": 143,
     "metadata": {},
     "output_type": "execute_result"
    }
   ],
   "source": [
    "len(Over_before_df)"
   ]
  },
  {
   "cell_type": "code",
   "execution_count": 144,
   "metadata": {
    "collapsed": false
   },
   "outputs": [],
   "source": [
    "Over_before_label_df = Over_before_df.pop(0)"
   ]
  },
  {
   "cell_type": "code",
   "execution_count": 145,
   "metadata": {
    "collapsed": false
   },
   "outputs": [],
   "source": [
    "Over_before_label_array = Over_before_label_df.unique()\n",
    "ula_le = preprocessing.LabelEncoder()\n",
    "ula_le.fit(Over_before_label_array)\n",
    "Over_before_label_df = ula_le.transform(Over_before_label_df)"
   ]
  },
  {
   "cell_type": "code",
   "execution_count": 146,
   "metadata": {
    "collapsed": true
   },
   "outputs": [],
   "source": [
    "Over_before_one_array = Over_before_df[1].unique()\n",
    "uoa_le = preprocessing.LabelEncoder()\n",
    "uoa_le.fit(Over_before_one_array)\n",
    "Over_before_df[1] = uoa_le.transform(Over_before_df[1])"
   ]
  },
  {
   "cell_type": "code",
   "execution_count": 147,
   "metadata": {
    "collapsed": true
   },
   "outputs": [],
   "source": [
    "Over_before_two_array = Over_before_df[2].unique()\n",
    "uta_le = preprocessing.LabelEncoder()\n",
    "uta_le.fit(Over_before_two_array)\n",
    "Over_before_df[2] = uta_le.transform(Over_before_df[2])"
   ]
  },
  {
   "cell_type": "code",
   "execution_count": 148,
   "metadata": {
    "collapsed": true
   },
   "outputs": [],
   "source": [
    "Over_before_three_array = Over_before_df[3].unique()\n",
    "utha_le = preprocessing.LabelEncoder()\n",
    "utha_le.fit(Over_before_three_array)\n",
    "Over_before_df[3] = utha_le.transform(Over_before_df[3])"
   ]
  },
  {
   "cell_type": "code",
   "execution_count": 149,
   "metadata": {
    "collapsed": true
   },
   "outputs": [],
   "source": [
    "Over_before_four_array = Over_before_df[4].unique()\n",
    "ufa_le = preprocessing.LabelEncoder()\n",
    "ufa_le.fit(Over_before_four_array)\n",
    "Over_before_df[4] = ufa_le.transform(Over_before_df[4])"
   ]
  },
  {
   "cell_type": "code",
   "execution_count": 150,
   "metadata": {
    "collapsed": true
   },
   "outputs": [],
   "source": [
    "Over_before_five_array = Over_before_df[5].unique()\n",
    "ufia_le = preprocessing.LabelEncoder()\n",
    "ufia_le.fit(Over_before_five_array)\n",
    "Over_before_df[5] = ufia_le.transform(Over_before_df[5])"
   ]
  },
  {
   "cell_type": "code",
   "execution_count": 151,
   "metadata": {
    "collapsed": true
   },
   "outputs": [],
   "source": [
    "Over_before_six_array = Over_before_df[6].unique()\n",
    "usa_le = preprocessing.LabelEncoder()\n",
    "usa_le.fit(Over_before_six_array)\n",
    "Over_before_df[6] = usa_le.transform(Over_before_df[6])"
   ]
  },
  {
   "cell_type": "code",
   "execution_count": 152,
   "metadata": {
    "collapsed": false
   },
   "outputs": [],
   "source": [
    "Over_before_seven_array = Over_before_df[7].unique()\n",
    "usea_le = preprocessing.LabelEncoder()\n",
    "usea_le.fit(Over_before_seven_array)\n",
    "Over_before_df[7] = usea_le.transform(Over_before_df[7])"
   ]
  },
  {
   "cell_type": "code",
   "execution_count": 153,
   "metadata": {
    "collapsed": false
   },
   "outputs": [
    {
     "data": {
      "text/plain": [
       "377392"
      ]
     },
     "execution_count": 153,
     "metadata": {},
     "output_type": "execute_result"
    }
   ],
   "source": [
    "len(Over_before_df)"
   ]
  },
  {
   "cell_type": "code",
   "execution_count": 154,
   "metadata": {
    "collapsed": false
   },
   "outputs": [
    {
     "data": {
      "text/plain": [
       "array([1, 0, 0, ..., 1, 1, 0])"
      ]
     },
     "execution_count": 154,
     "metadata": {},
     "output_type": "execute_result"
    }
   ],
   "source": [
    "Over_before_label_df"
   ]
  },
  {
   "cell_type": "code",
   "execution_count": 155,
   "metadata": {
    "collapsed": false
   },
   "outputs": [],
   "source": [
    "X_Over_before_train, X_Over_before_test, Y_Over_before_train,Y_Over_before_test = train_test_split(Over_before_df,Over_before_label_df,test_size = 0.4,random_state = 0)"
   ]
  },
  {
   "cell_type": "code",
   "execution_count": 156,
   "metadata": {
    "collapsed": false
   },
   "outputs": [
    {
     "data": {
      "text/plain": [
       "0.63896341342236529"
      ]
     },
     "execution_count": 156,
     "metadata": {},
     "output_type": "execute_result"
    }
   ],
   "source": [
    "rf_over_before = RandomForestClassifier(n_estimators = 350,min_samples_split = 0.2,min_samples_leaf = 0.2,verbose = 0)\n",
    "rf_over_before.fit(X_Over_before_train,Y_Over_before_train)\n",
    "rf_over_before.score(X_Over_before_test,Y_Over_before_test)"
   ]
  },
  {
   "cell_type": "code",
   "execution_count": 157,
   "metadata": {
    "collapsed": true
   },
   "outputs": [],
   "source": [
    "Y_pred = rf_over_before.predict(X_Over_before_test)"
   ]
  },
  {
   "cell_type": "code",
   "execution_count": 158,
   "metadata": {
    "collapsed": false
   },
   "outputs": [
    {
     "name": "stdout",
     "output_type": "stream",
     "text": [
      "('Micro', (0.63896341342236529, 0.63896341342236529, 0.63896341342236529, None))\n",
      "('Macro', (0.64108933847964877, 0.63892779180612091, 0.63756225252264775, None))\n",
      "('Weighted', (0.64107943987221039, 0.63896341342236529, 0.6375752400570901, None))\n"
     ]
    }
   ],
   "source": [
    "print ('Micro',(precision_recall_fscore_support(Y_Over_before_test,Y_pred , average='micro')))\n",
    "print ('Macro',(precision_recall_fscore_support(Y_Over_before_test,Y_pred , average='macro')))\n",
    "print ('Weighted',(precision_recall_fscore_support(Y_Over_before_test,Y_pred , average='weighted')))"
   ]
  },
  {
   "cell_type": "code",
   "execution_count": 159,
   "metadata": {
    "collapsed": false
   },
   "outputs": [
    {
     "data": {
      "image/png": "[encoded data removed]",
      "text/plain": [
       "<matplotlib.figure.Figure at 0x7f00fca9c990>"
      ]
     },
     "metadata": {},
     "output_type": "display_data"
    }
   ],
   "source": [
    "try:\n",
    "    scores_rf = rf_over_before.decision_function(X_Over_before_test)\n",
    "except:\n",
    "    scores_rf = rf_over_before.predict_proba(X_Over_before_test)[:,1]\n",
    "\n",
    "precision_rf, recall_rf, _ = precision_recall_curve(Y_Over_before_test, scores_rf, pos_label=0)\n",
    "average_precision_rf = average_precision_score(Y_Over_before_test, scores_rf)\n",
    "\n",
    "plt.plot(recall_rf, precision_rf, label='area = %0.2f' % average_precision_rf, color=\"green\")\n",
    "plt.xlim([0.0, 1.0])\n",
    "plt.ylim([0.0, 1.05])\n",
    "plt.xlabel('Recall')\n",
    "plt.ylabel('Precision')\n",
    "plt.title('Random Forest Precision Recall Curve')\n",
    "plt.legend(loc=\"lower right\")\n",
    "plt.show()"
   ]
  },
  {
   "cell_type": "markdown",
   "metadata": {},
   "source": [
    "## Logistic Regression"
   ]
  },
  {
   "cell_type": "code",
   "execution_count": 160,
   "metadata": {
    "collapsed": true
   },
   "outputs": [],
   "source": [
    "#To select the best parameters\n",
    "params = {'C':[10,100],'tol':[0.1,0.01]}\n",
    "\n",
    "# Logistic regression model\n",
    "log_reg = LogisticRegression(solver = 'lbfgs',multi_class = 'multinomial',verbose = 1)\n",
    "\n",
    "#This will search for best parmeters\n",
    "clf = GridSearchCV(log_reg,params, refit = \"True\", n_jobs = -1 , cv = 5)"
   ]
  },
  {
   "cell_type": "code",
   "execution_count": 161,
   "metadata": {
    "collapsed": false
   },
   "outputs": [
    {
     "name": "stderr",
     "output_type": "stream",
     "text": [
      "[Parallel(n_jobs=1)]: Done   1 out of   1 | elapsed:    2.8s finished\n",
      "[Parallel(n_jobs=1)]: Done   1 out of   1 | elapsed:    3.1s finished\n",
      "[Parallel(n_jobs=1)]: Done   1 out of   1 | elapsed:    5.4s finished\n",
      "[Parallel(n_jobs=1)]: Done   1 out of   1 | elapsed:    2.9s finished\n",
      "[Parallel(n_jobs=1)]: Done   1 out of   1 | elapsed:    6.5s finished\n",
      "[Parallel(n_jobs=1)]: Done   1 out of   1 | elapsed:    2.9s finished\n",
      "[Parallel(n_jobs=1)]: Done   1 out of   1 | elapsed:    5.4s finished\n",
      "[Parallel(n_jobs=1)]: Done   1 out of   1 | elapsed:    2.8s finished\n",
      "[Parallel(n_jobs=1)]: Done   1 out of   1 | elapsed:    2.8s finished\n",
      "[Parallel(n_jobs=1)]: Done   1 out of   1 | elapsed:    5.9s finished\n",
      "[Parallel(n_jobs=1)]: Done   1 out of   1 | elapsed:    3.4s finished\n",
      "[Parallel(n_jobs=1)]: Done   1 out of   1 | elapsed:    5.6s finished\n",
      "[Parallel(n_jobs=1)]: Done   1 out of   1 | elapsed:    2.8s finished\n",
      "[Parallel(n_jobs=1)]: Done   1 out of   1 | elapsed:    2.9s finished\n",
      "[Parallel(n_jobs=1)]: Done   1 out of   1 | elapsed:    6.2s finished\n",
      "[Parallel(n_jobs=1)]: Done   1 out of   1 | elapsed:    3.0s finished\n",
      "[Parallel(n_jobs=1)]: Done   1 out of   1 | elapsed:    5.3s finished\n",
      "[Parallel(n_jobs=1)]: Done   1 out of   1 | elapsed:    2.6s finished\n",
      "[Parallel(n_jobs=1)]: Done   1 out of   1 | elapsed:    2.3s finished\n",
      "[Parallel(n_jobs=1)]: Done   1 out of   1 | elapsed:    5.5s finished\n"
     ]
    },
    {
     "name": "stdout",
     "output_type": "stream",
     "text": [
      "best params: {'C': 10, 'tol': 0.1}\n"
     ]
    },
    {
     "name": "stderr",
     "output_type": "stream",
     "text": [
      "[Parallel(n_jobs=1)]: Done   1 out of   1 | elapsed:    1.8s finished\n"
     ]
    }
   ],
   "source": [
    "clf.fit(X_Over_before_train,Y_Over_before_train)\n",
    "\n",
    "print (\"best params: \" + str(clf.best_params_))"
   ]
  },
  {
   "cell_type": "code",
   "execution_count": 162,
   "metadata": {
    "collapsed": false
   },
   "outputs": [
    {
     "data": {
      "text/plain": [
       "0.56228594897884832"
      ]
     },
     "execution_count": 162,
     "metadata": {},
     "output_type": "execute_result"
    }
   ],
   "source": [
    "clf.score(X_Over_before_test,Y_Over_before_test)"
   ]
  },
  {
   "cell_type": "code",
   "execution_count": 163,
   "metadata": {
    "collapsed": true
   },
   "outputs": [],
   "source": [
    "Y_pred = clf.predict(X_Over_before_test)"
   ]
  },
  {
   "cell_type": "code",
   "execution_count": 164,
   "metadata": {
    "collapsed": false
   },
   "outputs": [
    {
     "name": "stdout",
     "output_type": "stream",
     "text": [
      "('Micro', (0.56228594897884832, 0.56228594897884832, 0.56228594897884832, None))\n",
      "('Macro', (0.56315917773439605, 0.5623192016849663, 0.56084033610088924, None))\n",
      "('Weighted', (0.56316354162099103, 0.56228594897884832, 0.56082581487696803, None))\n"
     ]
    }
   ],
   "source": [
    "print ('Micro',(precision_recall_fscore_support(Y_Over_before_test,Y_pred , average='micro')))\n",
    "print ('Macro',(precision_recall_fscore_support(Y_Over_before_test,Y_pred , average='macro')))\n",
    "print ('Weighted',(precision_recall_fscore_support(Y_Over_before_test,Y_pred , average='weighted')))"
   ]
  },
  {
   "cell_type": "code",
   "execution_count": 165,
   "metadata": {
    "collapsed": false
   },
   "outputs": [
    {
     "data": {
      "image/png": "[encoded data removed]",
      "text/plain": [
       "<matplotlib.figure.Figure at 0x7f00fc8a9e90>"
      ]
     },
     "metadata": {},
     "output_type": "display_data"
    }
   ],
   "source": [
    "try:\n",
    "    scores_lr = clf.decision_function(X_Over_before_test)\n",
    "except:\n",
    "    scores_lr = clf.predict_proba(X_Over_before_test)[:,1]\n",
    "\n",
    "precision_lr, recall_lr, _ = precision_recall_curve(Y_Over_before_test, scores_lr, pos_label=0)\n",
    "average_precision_lr = average_precision_score(Y_Over_before_test, scores_lr)\n",
    "\n",
    "plt.plot(recall_lr, precision_lr, label='area = %0.2f' % average_precision_lr, color=\"green\")\n",
    "plt.xlim([0.0, 1.0])\n",
    "plt.ylim([0.0, 1.05])\n",
    "plt.xlabel('Recall')\n",
    "plt.ylabel('Precision')\n",
    "plt.title('Logistic Regression Precision Recall Curve')\n",
    "plt.legend(loc=\"lower right\")\n",
    "plt.show()"
   ]
  },
  {
   "cell_type": "markdown",
   "metadata": {},
   "source": [
    "##  Decision Tree Classifier\n"
   ]
  },
  {
   "cell_type": "code",
   "execution_count": 166,
   "metadata": {
    "collapsed": false
   },
   "outputs": [
    {
     "data": {
      "text/plain": [
       "DecisionTreeClassifier(class_weight=None, criterion='gini', max_depth=None,\n",
       "            max_features=None, max_leaf_nodes=None,\n",
       "            min_impurity_split=1e-07, min_samples_leaf=1,\n",
       "            min_samples_split=2, min_weight_fraction_leaf=0.0,\n",
       "            presort=False, random_state=0, splitter='best')"
      ]
     },
     "execution_count": 166,
     "metadata": {},
     "output_type": "execute_result"
    }
   ],
   "source": [
    "clf_dtc = DecisionTreeClassifier(random_state = 0)\n",
    "clf_dtc.fit(X_Over_before_train,Y_Over_before_train)"
   ]
  },
  {
   "cell_type": "code",
   "execution_count": 167,
   "metadata": {
    "collapsed": false
   },
   "outputs": [
    {
     "data": {
      "text/plain": [
       "0.77059692495213872"
      ]
     },
     "execution_count": 167,
     "metadata": {},
     "output_type": "execute_result"
    }
   ],
   "source": [
    "clf_dtc.score(X_Over_before_test,Y_Over_before_test)"
   ]
  },
  {
   "cell_type": "code",
   "execution_count": 168,
   "metadata": {
    "collapsed": true
   },
   "outputs": [],
   "source": [
    "Y_pred = clf_dtc.predict(X_Over_before_test)"
   ]
  },
  {
   "cell_type": "code",
   "execution_count": 169,
   "metadata": {
    "collapsed": false
   },
   "outputs": [
    {
     "name": "stdout",
     "output_type": "stream",
     "text": [
      "('Micro', (0.77059692495213872, 0.77059692495213872, 0.77059692495213861, None))\n",
      "('Macro', (0.77588091851743524, 0.77063674473967669, 0.76951071136486993, None))\n",
      "('Weighted', (0.77590300603197815, 0.77059692495213872, 0.76950159232770954, None))\n"
     ]
    }
   ],
   "source": [
    "print ('Micro',(precision_recall_fscore_support(Y_Over_before_test,Y_pred , average='micro')))\n",
    "print ('Macro',(precision_recall_fscore_support(Y_Over_before_test,Y_pred , average='macro')))\n",
    "print ('Weighted',(precision_recall_fscore_support(Y_Over_before_test,Y_pred , average='weighted')))"
   ]
  },
  {
   "cell_type": "code",
   "execution_count": 170,
   "metadata": {
    "collapsed": false
   },
   "outputs": [
    {
     "data": {
      "image/png": "[encoded data removed]",
      "text/plain": [
       "<matplotlib.figure.Figure at 0x7f00fca390d0>"
      ]
     },
     "metadata": {},
     "output_type": "display_data"
    }
   ],
   "source": [
    "try:\n",
    "    scores_dtc = clf_dtc.decision_function(X_Over_before_test)\n",
    "except:\n",
    "    scores_dtc = clf_dtc.predict_proba(X_Over_before_test)[:,1]\n",
    "\n",
    "precision_dtc, recall_dtc, _ = precision_recall_curve(Y_Over_before_test, scores_dtc, pos_label=0)\n",
    "average_precision_dtc = average_precision_score(Y_Over_before_test, scores_dtc)\n",
    "\n",
    "plt.plot(recall_dtc, precision_dtc, label='area = %0.2f' % average_precision_dtc, color=\"green\")\n",
    "plt.xlim([0.0, 1.0])\n",
    "plt.ylim([0.0, 1.05])\n",
    "plt.xlabel('Recall')\n",
    "plt.ylabel('Precision')\n",
    "plt.title('DTC Precision Recall Curve')\n",
    "plt.legend(loc=\"lower right\")\n",
    "plt.show()"
   ]
  },
  {
   "cell_type": "markdown",
   "metadata": {},
   "source": [
    "## Naive Bayes"
   ]
  },
  {
   "cell_type": "code",
   "execution_count": 91,
   "metadata": {
    "collapsed": false
   },
   "outputs": [
    {
     "data": {
      "text/plain": [
       "0.64277906953635799"
      ]
     },
     "execution_count": 91,
     "metadata": {},
     "output_type": "execute_result"
    }
   ],
   "source": [
    "clf_nb = GaussianNB()\n",
    "clf_nb.fit(X_Over_before_train,Y_Over_before_train)\n",
    "clf_nb.score(X_Over_before_test,Y_Over_before_test)"
   ]
  },
  {
   "cell_type": "code",
   "execution_count": 171,
   "metadata": {
    "collapsed": false
   },
   "outputs": [
    {
     "data": {
      "image/png": "[encoded data removed]",
      "text/plain": [
       "<matplotlib.figure.Figure at 0x7f009f88c310>"
      ]
     },
     "metadata": {},
     "output_type": "display_data"
    }
   ],
   "source": [
    "try:\n",
    "    scores_nb = clf_nb.decision_function(X_Over_before_test)\n",
    "except:\n",
    "    scores_nb = clf_nb.predict_proba(X_Over_before_test)[:,1]\n",
    "\n",
    "precision_nb, recall_nb, _ = precision_recall_curve(Y_Over_before_test, scores_nb, pos_label=0)\n",
    "average_precision_nb = average_precision_score(Y_Over_before_test, scores_nb)\n",
    "\n",
    "plt.plot(recall_nb, precision_nb, label='area = %0.2f' % average_precision_nb, color=\"green\")\n",
    "plt.xlim([0.0, 1.0])\n",
    "plt.ylim([0.0, 1.05])\n",
    "plt.xlabel('Recall')\n",
    "plt.ylabel('Precision')\n",
    "plt.title('Naive Bayes Precision Recall Curve')\n",
    "plt.legend(loc=\"lower right\")\n",
    "plt.show()"
   ]
  },
  {
   "cell_type": "code",
   "execution_count": 172,
   "metadata": {
    "collapsed": false
   },
   "outputs": [
    {
     "data": {
      "image/png": "[encoded data removed]",
      "text/plain": [
       "<matplotlib.figure.Figure at 0x7f00fcfa2310>"
      ]
     },
     "metadata": {},
     "output_type": "display_data"
    }
   ],
   "source": [
    "plt.plot(recall_rf, precision_rf, label='random_forest = %0.2f' % average_precision_rf, color=\"green\")\n",
    "plt.plot(recall_lr, precision_lr, label='logistic_regression = %0.2f' % average_precision_lr, color=\"blue\")\n",
    "plt.plot(recall_dtc, precision_dtc, label='decision_tree = %0.2f' % average_precision_dtc, color=\"black\")\n",
    "plt.plot(recall_nb, precision_nb, label='naive_bayes = %0.2f' % average_precision_nb, color=\"pink\")\n",
    "\n",
    "plt.xlim([0.0, 1.0])\n",
    "plt.ylim([0.0, 1.05])\n",
    "plt.xlabel('Recall')\n",
    "plt.ylabel('Precision')\n",
    "plt.title('OverSampled Precision Recall Curve')\n",
    "plt.legend(loc=\"upper right\")\n",
    "plt.show()"
   ]
  },
  {
   "cell_type": "code",
   "execution_count": 173,
   "metadata": {
    "collapsed": false
   },
   "outputs": [
    {
     "data": {
      "image/png": "[encoded data removed]",
      "text/plain": [
       "<matplotlib.figure.Figure at 0x7f00fcaf6510>"
      ]
     },
     "metadata": {},
     "output_type": "display_data"
    }
   ],
   "source": [
    "fpr_rf, tpr_rf, thresholds = metrics.roc_curve(Y_Over_before_test, scores_rf)\n",
    "roc_auc_rf = auc(fpr_rf,tpr_rf)\n",
    "\n",
    "\n",
    "fpr_lr, tpr_lr, thresholds = metrics.roc_curve(Y_Over_before_test, scores_lr)\n",
    "roc_auc_lr = auc(fpr_lr,tpr_lr)\n",
    "\n",
    "fpr_dtc, tpr_dtc, thresholds = metrics.roc_curve(Y_Over_before_test, scores_dtc)\n",
    "roc_auc_dtc = auc(fpr_dtc,tpr_dtc)\n",
    "\n",
    "fpr_nb, tpr_nb, thresholds = metrics.roc_curve(Y_Over_before_test, scores_nb)\n",
    "roc_auc_nb = auc(fpr_nb,tpr_nb)\n",
    "\n",
    "plt.title('Receiver Operating Characteristic Over Sampled')\n",
    "plt.plot(fpr_rf,tpr_rf, 'b',label='rf AUC = %0.2f'% roc_auc_rf)\n",
    "plt.plot(fpr_lr,tpr_lr, 'g',label='lr AUC = %0.2f'% roc_auc_lr)\n",
    "plt.plot(fpr_dtc,tpr_dtc, 'r',label='dtc AUC = %0.2f'% roc_auc_dtc)\n",
    "plt.plot(fpr_nb,tpr_nb, 'y',label='nb AUC = %0.2f'% roc_auc_nb)\n",
    "plt.legend(loc='lower right')\n",
    "plt.plot([0,1],[0,1],'r--')\n",
    "plt.xlim([-0.1,1.2])\n",
    "plt.ylim([-0.1,1.2])\n",
    "plt.ylabel('True Positive Rate')\n",
    "plt.xlabel('False Positive Rate')\n",
    "plt.show()"
   ]
  },
  {
   "cell_type": "code",
   "execution_count": null,
   "metadata": {
    "collapsed": true
   },
   "outputs": [],
   "source": []
  }
 ],
 "metadata": {
  "kernelspec": {
   "display_name": "Python 2",
   "language": "python",
   "name": "python2"
  },
  "language_info": {
   "codemirror_mode": {
    "name": "ipython",
    "version": 2
   },
   "file_extension": ".py",
   "mimetype": "text/x-python",
   "name": "python",
   "nbconvert_exporter": "python",
   "pygments_lexer": "ipython2",
   "version": "2.7.13"
  }
 },
 "nbformat": 4,
 "nbformat_minor": 2
}
